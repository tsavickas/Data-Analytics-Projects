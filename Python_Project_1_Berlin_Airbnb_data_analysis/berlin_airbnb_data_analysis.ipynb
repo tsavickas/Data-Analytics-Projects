{
 "cells": [
  {
   "cell_type": "code",
   "execution_count": 2,
   "metadata": {},
   "outputs": [],
   "source": [
    "import pandas as pd\n",
    "import numpy as np\n",
    "from sklearn.model_selection import train_test_split\n",
    "from sklearn.linear_model import LinearRegression\n",
    "from sklearn import linear_model\n",
    "from sklearn.metrics import mean_squared_error\n",
    "import matplotlib\n",
    "import matplotlib.pyplot as plt\n",
    "matplotlib.style.use('ggplot')\n",
    "%matplotlib inline"
   ]
  },
  {
   "cell_type": "markdown",
   "metadata": {},
   "source": [
    "1. Nuskaitome duomenų failą ir pažiūrime kiek turime duomenų"
   ]
  },
  {
   "cell_type": "code",
   "execution_count": 3,
   "metadata": {},
   "outputs": [],
   "source": [
    "berlin = pd.read_csv('berlin_airbnb_data.csv')"
   ]
  },
  {
   "cell_type": "code",
   "execution_count": 4,
   "metadata": {},
   "outputs": [
    {
     "name": "stdout",
     "output_type": "stream",
     "text": [
      "Stebėjimų skaičius duomenų rinkinyje: 22552\n"
     ]
    }
   ],
   "source": [
    "print('Stebėjimų skaičius duomenų rinkinyje:',berlin.shape[0])"
   ]
  },
  {
   "cell_type": "code",
   "execution_count": 5,
   "metadata": {
    "scrolled": false
   },
   "outputs": [
    {
     "name": "stdout",
     "output_type": "stream",
     "text": [
      "Skirtingų parametrų kiekvienam stebėjimui: 96\n"
     ]
    }
   ],
   "source": [
    "print('Skirtingų parametrų kiekvienam stebėjimui:',berlin.shape[1])"
   ]
  },
  {
   "cell_type": "markdown",
   "metadata": {},
   "source": [
    "2. Iš 96 stulpelių atsirenkame aktualiausius duomenis analizei"
   ]
  },
  {
   "cell_type": "code",
   "execution_count": 6,
   "metadata": {
    "scrolled": false
   },
   "outputs": [
    {
     "data": {
      "text/html": [
       "<div>\n",
       "<style scoped>\n",
       "    .dataframe tbody tr th:only-of-type {\n",
       "        vertical-align: middle;\n",
       "    }\n",
       "\n",
       "    .dataframe tbody tr th {\n",
       "        vertical-align: top;\n",
       "    }\n",
       "\n",
       "    .dataframe thead th {\n",
       "        text-align: right;\n",
       "    }\n",
       "</style>\n",
       "<table border=\"1\" class=\"dataframe\">\n",
       "  <thead>\n",
       "    <tr style=\"text-align: right;\">\n",
       "      <th></th>\n",
       "      <th>property_type</th>\n",
       "      <th>room_type</th>\n",
       "      <th>accommodates</th>\n",
       "      <th>bedrooms</th>\n",
       "      <th>square_feet</th>\n",
       "      <th>price</th>\n",
       "      <th>neighbourhood_group_cleansed</th>\n",
       "    </tr>\n",
       "  </thead>\n",
       "  <tbody>\n",
       "    <tr>\n",
       "      <th>0</th>\n",
       "      <td>Guesthouse</td>\n",
       "      <td>Entire home/apt</td>\n",
       "      <td>3</td>\n",
       "      <td>1.0</td>\n",
       "      <td>NaN</td>\n",
       "      <td>$60.00</td>\n",
       "      <td>Mitte</td>\n",
       "    </tr>\n",
       "    <tr>\n",
       "      <th>1</th>\n",
       "      <td>Apartment</td>\n",
       "      <td>Private room</td>\n",
       "      <td>2</td>\n",
       "      <td>1.0</td>\n",
       "      <td>NaN</td>\n",
       "      <td>$17.00</td>\n",
       "      <td>Pankow</td>\n",
       "    </tr>\n",
       "    <tr>\n",
       "      <th>2</th>\n",
       "      <td>Apartment</td>\n",
       "      <td>Entire home/apt</td>\n",
       "      <td>4</td>\n",
       "      <td>1.0</td>\n",
       "      <td>720.0</td>\n",
       "      <td>$90.00</td>\n",
       "      <td>Pankow</td>\n",
       "    </tr>\n",
       "    <tr>\n",
       "      <th>3</th>\n",
       "      <td>Apartment</td>\n",
       "      <td>Private room</td>\n",
       "      <td>2</td>\n",
       "      <td>1.0</td>\n",
       "      <td>0.0</td>\n",
       "      <td>$26.00</td>\n",
       "      <td>Tempelhof - Schöneberg</td>\n",
       "    </tr>\n",
       "    <tr>\n",
       "      <th>4</th>\n",
       "      <td>Apartment</td>\n",
       "      <td>Private room</td>\n",
       "      <td>2</td>\n",
       "      <td>1.0</td>\n",
       "      <td>NaN</td>\n",
       "      <td>$42.00</td>\n",
       "      <td>Pankow</td>\n",
       "    </tr>\n",
       "  </tbody>\n",
       "</table>\n",
       "</div>"
      ],
      "text/plain": [
       "  property_type        room_type  accommodates  bedrooms  square_feet   price  \\\n",
       "0    Guesthouse  Entire home/apt             3       1.0          NaN  $60.00   \n",
       "1     Apartment     Private room             2       1.0          NaN  $17.00   \n",
       "2     Apartment  Entire home/apt             4       1.0        720.0  $90.00   \n",
       "3     Apartment     Private room             2       1.0          0.0  $26.00   \n",
       "4     Apartment     Private room             2       1.0          NaN  $42.00   \n",
       "\n",
       "  neighbourhood_group_cleansed  \n",
       "0                        Mitte  \n",
       "1                       Pankow  \n",
       "2                       Pankow  \n",
       "3       Tempelhof - Schöneberg  \n",
       "4                       Pankow  "
      ]
     },
     "execution_count": 6,
     "metadata": {},
     "output_type": "execute_result"
    }
   ],
   "source": [
    "berlin = pd.DataFrame(berlin, columns = ['property_type','room_type','accommodates','bedrooms','square_feet','price','neighbourhood_group_cleansed'])\n",
    "berlin.head()"
   ]
  },
  {
   "cell_type": "markdown",
   "metadata": {},
   "source": [
    "3. Tvarkome duomenis: išsirenkame tik tas nuomuojamas vietas, kurių yra nurodytas dydis ir kvadratines pėdas paverčiame į kvadrtinius metrus priskirdami reikšmes naujame stulpelyje"
   ]
  },
  {
   "cell_type": "code",
   "execution_count": 7,
   "metadata": {},
   "outputs": [],
   "source": [
    "berlin=berlin[berlin.square_feet>0]"
   ]
  },
  {
   "cell_type": "code",
   "execution_count": 8,
   "metadata": {
    "scrolled": true
   },
   "outputs": [
    {
     "data": {
      "text/html": [
       "<div>\n",
       "<style scoped>\n",
       "    .dataframe tbody tr th:only-of-type {\n",
       "        vertical-align: middle;\n",
       "    }\n",
       "\n",
       "    .dataframe tbody tr th {\n",
       "        vertical-align: top;\n",
       "    }\n",
       "\n",
       "    .dataframe thead th {\n",
       "        text-align: right;\n",
       "    }\n",
       "</style>\n",
       "<table border=\"1\" class=\"dataframe\">\n",
       "  <thead>\n",
       "    <tr style=\"text-align: right;\">\n",
       "      <th></th>\n",
       "      <th>property_type</th>\n",
       "      <th>room_type</th>\n",
       "      <th>accommodates</th>\n",
       "      <th>bedrooms</th>\n",
       "      <th>square_feet</th>\n",
       "      <th>price</th>\n",
       "      <th>neighbourhood_group_cleansed</th>\n",
       "      <th>square_meters</th>\n",
       "    </tr>\n",
       "  </thead>\n",
       "  <tbody>\n",
       "    <tr>\n",
       "      <th>2</th>\n",
       "      <td>Apartment</td>\n",
       "      <td>Entire home/apt</td>\n",
       "      <td>4</td>\n",
       "      <td>1.0</td>\n",
       "      <td>720.0</td>\n",
       "      <td>$90.00</td>\n",
       "      <td>Pankow</td>\n",
       "      <td>66</td>\n",
       "    </tr>\n",
       "    <tr>\n",
       "      <th>14</th>\n",
       "      <td>Apartment</td>\n",
       "      <td>Entire home/apt</td>\n",
       "      <td>5</td>\n",
       "      <td>1.0</td>\n",
       "      <td>753.0</td>\n",
       "      <td>$160.00</td>\n",
       "      <td>Mitte</td>\n",
       "      <td>69</td>\n",
       "    </tr>\n",
       "    <tr>\n",
       "      <th>18</th>\n",
       "      <td>Apartment</td>\n",
       "      <td>Entire home/apt</td>\n",
       "      <td>8</td>\n",
       "      <td>2.0</td>\n",
       "      <td>1012.0</td>\n",
       "      <td>$197.00</td>\n",
       "      <td>Pankow</td>\n",
       "      <td>94</td>\n",
       "    </tr>\n",
       "    <tr>\n",
       "      <th>28</th>\n",
       "      <td>Apartment</td>\n",
       "      <td>Private room</td>\n",
       "      <td>1</td>\n",
       "      <td>1.0</td>\n",
       "      <td>646.0</td>\n",
       "      <td>$25.00</td>\n",
       "      <td>Tempelhof - Schöneberg</td>\n",
       "      <td>60</td>\n",
       "    </tr>\n",
       "    <tr>\n",
       "      <th>33</th>\n",
       "      <td>Loft</td>\n",
       "      <td>Private room</td>\n",
       "      <td>2</td>\n",
       "      <td>1.0</td>\n",
       "      <td>215.0</td>\n",
       "      <td>$50.00</td>\n",
       "      <td>Friedrichshain-Kreuzberg</td>\n",
       "      <td>19</td>\n",
       "    </tr>\n",
       "  </tbody>\n",
       "</table>\n",
       "</div>"
      ],
      "text/plain": [
       "   property_type        room_type  accommodates  bedrooms  square_feet  \\\n",
       "2      Apartment  Entire home/apt             4       1.0        720.0   \n",
       "14     Apartment  Entire home/apt             5       1.0        753.0   \n",
       "18     Apartment  Entire home/apt             8       2.0       1012.0   \n",
       "28     Apartment     Private room             1       1.0        646.0   \n",
       "33          Loft     Private room             2       1.0        215.0   \n",
       "\n",
       "      price neighbourhood_group_cleansed  square_meters  \n",
       "2    $90.00                       Pankow             66  \n",
       "14  $160.00                        Mitte             69  \n",
       "18  $197.00                       Pankow             94  \n",
       "28   $25.00       Tempelhof - Schöneberg             60  \n",
       "33   $50.00     Friedrichshain-Kreuzberg             19  "
      ]
     },
     "execution_count": 8,
     "metadata": {},
     "output_type": "execute_result"
    }
   ],
   "source": [
    "berlin['square_meters']=berlin.square_feet.values*0.092903\n",
    "berlin.square_meters=berlin.square_meters.astype(int)\n",
    "berlin.head()"
   ]
  },
  {
   "cell_type": "markdown",
   "metadata": {},
   "source": [
    "4. Kainos reikšmės yra \"Object\" tipo todėl atliekam konvertavimą į skaitines reikšmes"
   ]
  },
  {
   "cell_type": "code",
   "execution_count": 9,
   "metadata": {},
   "outputs": [],
   "source": [
    "berlin.price = berlin.price.str.replace(',','')"
   ]
  },
  {
   "cell_type": "code",
   "execution_count": 10,
   "metadata": {},
   "outputs": [],
   "source": [
    "def doleraizeris(x):\n",
    "    x = float(x[1:-1])\n",
    "    return(x)\n",
    "berlin.price = berlin.price.apply(doleraizeris)"
   ]
  },
  {
   "cell_type": "markdown",
   "metadata": {},
   "source": [
    "5. Pašaliname išskirtis iš kainos ir objekto dydžių stulpelių"
   ]
  },
  {
   "cell_type": "code",
   "execution_count": 11,
   "metadata": {
    "scrolled": false
   },
   "outputs": [
    {
     "data": {
      "text/plain": [
       "(313, 8)"
      ]
     },
     "execution_count": 11,
     "metadata": {},
     "output_type": "execute_result"
    }
   ],
   "source": [
    "from scipy import stats\n",
    "\n",
    "berlin = berlin[(np.abs(stats.zscore(berlin[['price','square_meters']])) < 3).all(axis=1)]\n",
    "berlin.shape"
   ]
  },
  {
   "cell_type": "markdown",
   "metadata": {},
   "source": [
    "6. Kambario tipą ir rajonus suskirstome į TRUE(1) ir FALSE(0) reikšmes, nes vėliau jas įtrauksime į reikšmių nuomos kainai analizę"
   ]
  },
  {
   "cell_type": "code",
   "execution_count": 12,
   "metadata": {},
   "outputs": [],
   "source": [
    "berlin['room_type2'] = berlin.room_type == 'Entire home/apt'"
   ]
  },
  {
   "cell_type": "code",
   "execution_count": 13,
   "metadata": {},
   "outputs": [],
   "source": [
    "berlin['city_center'] = berlin.neighbourhood_group_cleansed == 'Mitte'"
   ]
  },
  {
   "cell_type": "code",
   "execution_count": 14,
   "metadata": {},
   "outputs": [],
   "source": [
    "berlin.room_type2 = berlin.room_type2.astype(int)"
   ]
  },
  {
   "cell_type": "code",
   "execution_count": 15,
   "metadata": {},
   "outputs": [
    {
     "data": {
      "text/html": [
       "<div>\n",
       "<style scoped>\n",
       "    .dataframe tbody tr th:only-of-type {\n",
       "        vertical-align: middle;\n",
       "    }\n",
       "\n",
       "    .dataframe tbody tr th {\n",
       "        vertical-align: top;\n",
       "    }\n",
       "\n",
       "    .dataframe thead th {\n",
       "        text-align: right;\n",
       "    }\n",
       "</style>\n",
       "<table border=\"1\" class=\"dataframe\">\n",
       "  <thead>\n",
       "    <tr style=\"text-align: right;\">\n",
       "      <th></th>\n",
       "      <th>property_type</th>\n",
       "      <th>room_type</th>\n",
       "      <th>accommodates</th>\n",
       "      <th>bedrooms</th>\n",
       "      <th>square_feet</th>\n",
       "      <th>price</th>\n",
       "      <th>neighbourhood_group_cleansed</th>\n",
       "      <th>square_meters</th>\n",
       "      <th>room_type2</th>\n",
       "      <th>city_center</th>\n",
       "    </tr>\n",
       "  </thead>\n",
       "  <tbody>\n",
       "    <tr>\n",
       "      <th>2</th>\n",
       "      <td>Apartment</td>\n",
       "      <td>Entire home/apt</td>\n",
       "      <td>4</td>\n",
       "      <td>1.0</td>\n",
       "      <td>720.0</td>\n",
       "      <td>90.0</td>\n",
       "      <td>Pankow</td>\n",
       "      <td>66</td>\n",
       "      <td>1</td>\n",
       "      <td>0</td>\n",
       "    </tr>\n",
       "    <tr>\n",
       "      <th>14</th>\n",
       "      <td>Apartment</td>\n",
       "      <td>Entire home/apt</td>\n",
       "      <td>5</td>\n",
       "      <td>1.0</td>\n",
       "      <td>753.0</td>\n",
       "      <td>160.0</td>\n",
       "      <td>Mitte</td>\n",
       "      <td>69</td>\n",
       "      <td>1</td>\n",
       "      <td>1</td>\n",
       "    </tr>\n",
       "    <tr>\n",
       "      <th>18</th>\n",
       "      <td>Apartment</td>\n",
       "      <td>Entire home/apt</td>\n",
       "      <td>8</td>\n",
       "      <td>2.0</td>\n",
       "      <td>1012.0</td>\n",
       "      <td>197.0</td>\n",
       "      <td>Pankow</td>\n",
       "      <td>94</td>\n",
       "      <td>1</td>\n",
       "      <td>0</td>\n",
       "    </tr>\n",
       "    <tr>\n",
       "      <th>28</th>\n",
       "      <td>Apartment</td>\n",
       "      <td>Private room</td>\n",
       "      <td>1</td>\n",
       "      <td>1.0</td>\n",
       "      <td>646.0</td>\n",
       "      <td>25.0</td>\n",
       "      <td>Tempelhof - Schöneberg</td>\n",
       "      <td>60</td>\n",
       "      <td>0</td>\n",
       "      <td>0</td>\n",
       "    </tr>\n",
       "    <tr>\n",
       "      <th>33</th>\n",
       "      <td>Loft</td>\n",
       "      <td>Private room</td>\n",
       "      <td>2</td>\n",
       "      <td>1.0</td>\n",
       "      <td>215.0</td>\n",
       "      <td>50.0</td>\n",
       "      <td>Friedrichshain-Kreuzberg</td>\n",
       "      <td>19</td>\n",
       "      <td>0</td>\n",
       "      <td>0</td>\n",
       "    </tr>\n",
       "  </tbody>\n",
       "</table>\n",
       "</div>"
      ],
      "text/plain": [
       "   property_type        room_type  accommodates  bedrooms  square_feet  price  \\\n",
       "2      Apartment  Entire home/apt             4       1.0        720.0   90.0   \n",
       "14     Apartment  Entire home/apt             5       1.0        753.0  160.0   \n",
       "18     Apartment  Entire home/apt             8       2.0       1012.0  197.0   \n",
       "28     Apartment     Private room             1       1.0        646.0   25.0   \n",
       "33          Loft     Private room             2       1.0        215.0   50.0   \n",
       "\n",
       "   neighbourhood_group_cleansed  square_meters  room_type2  city_center  \n",
       "2                        Pankow             66           1            0  \n",
       "14                        Mitte             69           1            1  \n",
       "18                       Pankow             94           1            0  \n",
       "28       Tempelhof - Schöneberg             60           0            0  \n",
       "33     Friedrichshain-Kreuzberg             19           0            0  "
      ]
     },
     "execution_count": 15,
     "metadata": {},
     "output_type": "execute_result"
    }
   ],
   "source": [
    "berlin.city_center = berlin.city_center.astype(int)\n",
    "berlin.head()"
   ]
  },
  {
   "cell_type": "markdown",
   "metadata": {},
   "source": [
    "7. Patikriname duomenų tipus ir kokių duomenų turime po jų sutvarkymo"
   ]
  },
  {
   "cell_type": "code",
   "execution_count": 16,
   "metadata": {},
   "outputs": [
    {
     "data": {
      "text/plain": [
       "property_type                    object\n",
       "room_type                        object\n",
       "accommodates                      int64\n",
       "bedrooms                        float64\n",
       "square_feet                     float64\n",
       "price                           float64\n",
       "neighbourhood_group_cleansed     object\n",
       "square_meters                     int32\n",
       "room_type2                        int32\n",
       "city_center                       int32\n",
       "dtype: object"
      ]
     },
     "execution_count": 16,
     "metadata": {},
     "output_type": "execute_result"
    }
   ],
   "source": [
    "berlin.dtypes"
   ]
  },
  {
   "cell_type": "code",
   "execution_count": 17,
   "metadata": {
    "scrolled": true
   },
   "outputs": [
    {
     "data": {
      "text/plain": [
       "Apartment            277\n",
       "Loft                  10\n",
       "House                 10\n",
       "Condominium            7\n",
       "Guesthouse             2\n",
       "Guest suite            2\n",
       "Other                  2\n",
       "Bungalow               1\n",
       "Bed and breakfast      1\n",
       "Island                 1\n",
       "Name: property_type, dtype: int64"
      ]
     },
     "execution_count": 17,
     "metadata": {},
     "output_type": "execute_result"
    }
   ],
   "source": [
    "berlin.property_type.value_counts()"
   ]
  },
  {
   "cell_type": "code",
   "execution_count": 18,
   "metadata": {},
   "outputs": [
    {
     "data": {
      "text/plain": [
       "Entire home/apt    227\n",
       "Private room        85\n",
       "Shared room          1\n",
       "Name: room_type, dtype: int64"
      ]
     },
     "execution_count": 18,
     "metadata": {},
     "output_type": "execute_result"
    }
   ],
   "source": [
    "berlin.room_type.value_counts()"
   ]
  },
  {
   "cell_type": "code",
   "execution_count": 19,
   "metadata": {},
   "outputs": [
    {
     "data": {
      "text/plain": [
       "Friedrichshain-Kreuzberg    72\n",
       "Mitte                       70\n",
       "Pankow                      57\n",
       "Neukölln                    34\n",
       "Charlottenburg-Wilm.        33\n",
       "Tempelhof - Schöneberg      20\n",
       "Treptow - Köpenick          10\n",
       "Lichtenberg                  7\n",
       "Reinickendorf                5\n",
       "Steglitz - Zehlendorf        5\n",
       "Name: neighbourhood_group_cleansed, dtype: int64"
      ]
     },
     "execution_count": 19,
     "metadata": {},
     "output_type": "execute_result"
    }
   ],
   "source": [
    "berlin.neighbourhood_group_cleansed.value_counts()"
   ]
  },
  {
   "cell_type": "code",
   "execution_count": 20,
   "metadata": {},
   "outputs": [
    {
     "data": {
      "text/html": [
       "<div>\n",
       "<style scoped>\n",
       "    .dataframe tbody tr th:only-of-type {\n",
       "        vertical-align: middle;\n",
       "    }\n",
       "\n",
       "    .dataframe tbody tr th {\n",
       "        vertical-align: top;\n",
       "    }\n",
       "\n",
       "    .dataframe thead th {\n",
       "        text-align: right;\n",
       "    }\n",
       "</style>\n",
       "<table border=\"1\" class=\"dataframe\">\n",
       "  <thead>\n",
       "    <tr style=\"text-align: right;\">\n",
       "      <th></th>\n",
       "      <th>property_type</th>\n",
       "      <th>room_type</th>\n",
       "      <th>accommodates</th>\n",
       "      <th>bedrooms</th>\n",
       "      <th>square_feet</th>\n",
       "      <th>price</th>\n",
       "      <th>neighbourhood_group_cleansed</th>\n",
       "      <th>square_meters</th>\n",
       "      <th>room_type2</th>\n",
       "      <th>city_center</th>\n",
       "      <th>district</th>\n",
       "    </tr>\n",
       "  </thead>\n",
       "  <tbody>\n",
       "    <tr>\n",
       "      <th>2</th>\n",
       "      <td>Apartment</td>\n",
       "      <td>Entire home/apt</td>\n",
       "      <td>4</td>\n",
       "      <td>1.0</td>\n",
       "      <td>720.0</td>\n",
       "      <td>90.0</td>\n",
       "      <td>Pankow</td>\n",
       "      <td>66</td>\n",
       "      <td>1</td>\n",
       "      <td>0</td>\n",
       "      <td>3</td>\n",
       "    </tr>\n",
       "    <tr>\n",
       "      <th>14</th>\n",
       "      <td>Apartment</td>\n",
       "      <td>Entire home/apt</td>\n",
       "      <td>5</td>\n",
       "      <td>1.0</td>\n",
       "      <td>753.0</td>\n",
       "      <td>160.0</td>\n",
       "      <td>Mitte</td>\n",
       "      <td>69</td>\n",
       "      <td>1</td>\n",
       "      <td>1</td>\n",
       "      <td>2</td>\n",
       "    </tr>\n",
       "    <tr>\n",
       "      <th>18</th>\n",
       "      <td>Apartment</td>\n",
       "      <td>Entire home/apt</td>\n",
       "      <td>8</td>\n",
       "      <td>2.0</td>\n",
       "      <td>1012.0</td>\n",
       "      <td>197.0</td>\n",
       "      <td>Pankow</td>\n",
       "      <td>94</td>\n",
       "      <td>1</td>\n",
       "      <td>0</td>\n",
       "      <td>3</td>\n",
       "    </tr>\n",
       "    <tr>\n",
       "      <th>28</th>\n",
       "      <td>Apartment</td>\n",
       "      <td>Private room</td>\n",
       "      <td>1</td>\n",
       "      <td>1.0</td>\n",
       "      <td>646.0</td>\n",
       "      <td>25.0</td>\n",
       "      <td>Tempelhof - Schöneberg</td>\n",
       "      <td>60</td>\n",
       "      <td>0</td>\n",
       "      <td>0</td>\n",
       "      <td>6</td>\n",
       "    </tr>\n",
       "    <tr>\n",
       "      <th>33</th>\n",
       "      <td>Loft</td>\n",
       "      <td>Private room</td>\n",
       "      <td>2</td>\n",
       "      <td>1.0</td>\n",
       "      <td>215.0</td>\n",
       "      <td>50.0</td>\n",
       "      <td>Friedrichshain-Kreuzberg</td>\n",
       "      <td>19</td>\n",
       "      <td>0</td>\n",
       "      <td>0</td>\n",
       "      <td>1</td>\n",
       "    </tr>\n",
       "    <tr>\n",
       "      <th>35</th>\n",
       "      <td>Apartment</td>\n",
       "      <td>Private room</td>\n",
       "      <td>2</td>\n",
       "      <td>1.0</td>\n",
       "      <td>452.0</td>\n",
       "      <td>40.0</td>\n",
       "      <td>Pankow</td>\n",
       "      <td>41</td>\n",
       "      <td>0</td>\n",
       "      <td>0</td>\n",
       "      <td>3</td>\n",
       "    </tr>\n",
       "    <tr>\n",
       "      <th>39</th>\n",
       "      <td>Apartment</td>\n",
       "      <td>Private room</td>\n",
       "      <td>2</td>\n",
       "      <td>1.0</td>\n",
       "      <td>807.0</td>\n",
       "      <td>42.0</td>\n",
       "      <td>Treptow - Köpenick</td>\n",
       "      <td>74</td>\n",
       "      <td>0</td>\n",
       "      <td>0</td>\n",
       "      <td>7</td>\n",
       "    </tr>\n",
       "    <tr>\n",
       "      <th>42</th>\n",
       "      <td>Loft</td>\n",
       "      <td>Entire home/apt</td>\n",
       "      <td>2</td>\n",
       "      <td>1.0</td>\n",
       "      <td>474.0</td>\n",
       "      <td>48.0</td>\n",
       "      <td>Mitte</td>\n",
       "      <td>44</td>\n",
       "      <td>1</td>\n",
       "      <td>1</td>\n",
       "      <td>2</td>\n",
       "    </tr>\n",
       "    <tr>\n",
       "      <th>44</th>\n",
       "      <td>Apartment</td>\n",
       "      <td>Entire home/apt</td>\n",
       "      <td>2</td>\n",
       "      <td>1.0</td>\n",
       "      <td>431.0</td>\n",
       "      <td>70.0</td>\n",
       "      <td>Pankow</td>\n",
       "      <td>40</td>\n",
       "      <td>1</td>\n",
       "      <td>0</td>\n",
       "      <td>3</td>\n",
       "    </tr>\n",
       "    <tr>\n",
       "      <th>48</th>\n",
       "      <td>Apartment</td>\n",
       "      <td>Entire home/apt</td>\n",
       "      <td>2</td>\n",
       "      <td>1.0</td>\n",
       "      <td>323.0</td>\n",
       "      <td>90.0</td>\n",
       "      <td>Mitte</td>\n",
       "      <td>30</td>\n",
       "      <td>1</td>\n",
       "      <td>1</td>\n",
       "      <td>2</td>\n",
       "    </tr>\n",
       "    <tr>\n",
       "      <th>56</th>\n",
       "      <td>House</td>\n",
       "      <td>Entire home/apt</td>\n",
       "      <td>10</td>\n",
       "      <td>2.0</td>\n",
       "      <td>1615.0</td>\n",
       "      <td>120.0</td>\n",
       "      <td>Treptow - Köpenick</td>\n",
       "      <td>150</td>\n",
       "      <td>1</td>\n",
       "      <td>0</td>\n",
       "      <td>7</td>\n",
       "    </tr>\n",
       "    <tr>\n",
       "      <th>60</th>\n",
       "      <td>Apartment</td>\n",
       "      <td>Entire home/apt</td>\n",
       "      <td>4</td>\n",
       "      <td>2.0</td>\n",
       "      <td>775.0</td>\n",
       "      <td>102.0</td>\n",
       "      <td>Friedrichshain-Kreuzberg</td>\n",
       "      <td>71</td>\n",
       "      <td>1</td>\n",
       "      <td>0</td>\n",
       "      <td>1</td>\n",
       "    </tr>\n",
       "    <tr>\n",
       "      <th>63</th>\n",
       "      <td>Apartment</td>\n",
       "      <td>Entire home/apt</td>\n",
       "      <td>2</td>\n",
       "      <td>1.0</td>\n",
       "      <td>495.0</td>\n",
       "      <td>80.0</td>\n",
       "      <td>Charlottenburg-Wilm.</td>\n",
       "      <td>45</td>\n",
       "      <td>1</td>\n",
       "      <td>0</td>\n",
       "      <td>5</td>\n",
       "    </tr>\n",
       "    <tr>\n",
       "      <th>65</th>\n",
       "      <td>Apartment</td>\n",
       "      <td>Entire home/apt</td>\n",
       "      <td>6</td>\n",
       "      <td>3.0</td>\n",
       "      <td>1087.0</td>\n",
       "      <td>185.0</td>\n",
       "      <td>Pankow</td>\n",
       "      <td>100</td>\n",
       "      <td>1</td>\n",
       "      <td>0</td>\n",
       "      <td>3</td>\n",
       "    </tr>\n",
       "    <tr>\n",
       "      <th>66</th>\n",
       "      <td>Apartment</td>\n",
       "      <td>Entire home/apt</td>\n",
       "      <td>2</td>\n",
       "      <td>1.0</td>\n",
       "      <td>323.0</td>\n",
       "      <td>49.0</td>\n",
       "      <td>Charlottenburg-Wilm.</td>\n",
       "      <td>30</td>\n",
       "      <td>1</td>\n",
       "      <td>0</td>\n",
       "      <td>5</td>\n",
       "    </tr>\n",
       "    <tr>\n",
       "      <th>73</th>\n",
       "      <td>Condominium</td>\n",
       "      <td>Entire home/apt</td>\n",
       "      <td>2</td>\n",
       "      <td>1.0</td>\n",
       "      <td>484.0</td>\n",
       "      <td>75.0</td>\n",
       "      <td>Mitte</td>\n",
       "      <td>44</td>\n",
       "      <td>1</td>\n",
       "      <td>1</td>\n",
       "      <td>2</td>\n",
       "    </tr>\n",
       "    <tr>\n",
       "      <th>79</th>\n",
       "      <td>Apartment</td>\n",
       "      <td>Entire home/apt</td>\n",
       "      <td>3</td>\n",
       "      <td>1.0</td>\n",
       "      <td>484.0</td>\n",
       "      <td>50.0</td>\n",
       "      <td>Friedrichshain-Kreuzberg</td>\n",
       "      <td>44</td>\n",
       "      <td>1</td>\n",
       "      <td>0</td>\n",
       "      <td>1</td>\n",
       "    </tr>\n",
       "    <tr>\n",
       "      <th>85</th>\n",
       "      <td>House</td>\n",
       "      <td>Entire home/apt</td>\n",
       "      <td>4</td>\n",
       "      <td>2.0</td>\n",
       "      <td>65.0</td>\n",
       "      <td>69.0</td>\n",
       "      <td>Pankow</td>\n",
       "      <td>6</td>\n",
       "      <td>1</td>\n",
       "      <td>0</td>\n",
       "      <td>3</td>\n",
       "    </tr>\n",
       "    <tr>\n",
       "      <th>86</th>\n",
       "      <td>Apartment</td>\n",
       "      <td>Entire home/apt</td>\n",
       "      <td>2</td>\n",
       "      <td>2.0</td>\n",
       "      <td>969.0</td>\n",
       "      <td>75.0</td>\n",
       "      <td>Friedrichshain-Kreuzberg</td>\n",
       "      <td>90</td>\n",
       "      <td>1</td>\n",
       "      <td>0</td>\n",
       "      <td>1</td>\n",
       "    </tr>\n",
       "    <tr>\n",
       "      <th>87</th>\n",
       "      <td>Apartment</td>\n",
       "      <td>Entire home/apt</td>\n",
       "      <td>4</td>\n",
       "      <td>1.0</td>\n",
       "      <td>388.0</td>\n",
       "      <td>68.0</td>\n",
       "      <td>Friedrichshain-Kreuzberg</td>\n",
       "      <td>36</td>\n",
       "      <td>1</td>\n",
       "      <td>0</td>\n",
       "      <td>1</td>\n",
       "    </tr>\n",
       "    <tr>\n",
       "      <th>104</th>\n",
       "      <td>Apartment</td>\n",
       "      <td>Private room</td>\n",
       "      <td>4</td>\n",
       "      <td>1.0</td>\n",
       "      <td>269.0</td>\n",
       "      <td>29.0</td>\n",
       "      <td>Mitte</td>\n",
       "      <td>24</td>\n",
       "      <td>0</td>\n",
       "      <td>1</td>\n",
       "      <td>2</td>\n",
       "    </tr>\n",
       "    <tr>\n",
       "      <th>105</th>\n",
       "      <td>Apartment</td>\n",
       "      <td>Entire home/apt</td>\n",
       "      <td>2</td>\n",
       "      <td>1.0</td>\n",
       "      <td>54.0</td>\n",
       "      <td>100.0</td>\n",
       "      <td>Friedrichshain-Kreuzberg</td>\n",
       "      <td>5</td>\n",
       "      <td>1</td>\n",
       "      <td>0</td>\n",
       "      <td>1</td>\n",
       "    </tr>\n",
       "    <tr>\n",
       "      <th>115</th>\n",
       "      <td>Apartment</td>\n",
       "      <td>Private room</td>\n",
       "      <td>1</td>\n",
       "      <td>1.0</td>\n",
       "      <td>15.0</td>\n",
       "      <td>23.0</td>\n",
       "      <td>Charlottenburg-Wilm.</td>\n",
       "      <td>1</td>\n",
       "      <td>0</td>\n",
       "      <td>0</td>\n",
       "      <td>5</td>\n",
       "    </tr>\n",
       "    <tr>\n",
       "      <th>118</th>\n",
       "      <td>Apartment</td>\n",
       "      <td>Entire home/apt</td>\n",
       "      <td>2</td>\n",
       "      <td>1.0</td>\n",
       "      <td>46.0</td>\n",
       "      <td>70.0</td>\n",
       "      <td>Pankow</td>\n",
       "      <td>4</td>\n",
       "      <td>1</td>\n",
       "      <td>0</td>\n",
       "      <td>3</td>\n",
       "    </tr>\n",
       "    <tr>\n",
       "      <th>119</th>\n",
       "      <td>Apartment</td>\n",
       "      <td>Entire home/apt</td>\n",
       "      <td>5</td>\n",
       "      <td>2.0</td>\n",
       "      <td>1023.0</td>\n",
       "      <td>80.0</td>\n",
       "      <td>Pankow</td>\n",
       "      <td>95</td>\n",
       "      <td>1</td>\n",
       "      <td>0</td>\n",
       "      <td>3</td>\n",
       "    </tr>\n",
       "    <tr>\n",
       "      <th>121</th>\n",
       "      <td>Apartment</td>\n",
       "      <td>Entire home/apt</td>\n",
       "      <td>3</td>\n",
       "      <td>2.0</td>\n",
       "      <td>646.0</td>\n",
       "      <td>96.0</td>\n",
       "      <td>Mitte</td>\n",
       "      <td>60</td>\n",
       "      <td>1</td>\n",
       "      <td>1</td>\n",
       "      <td>2</td>\n",
       "    </tr>\n",
       "    <tr>\n",
       "      <th>129</th>\n",
       "      <td>Apartment</td>\n",
       "      <td>Entire home/apt</td>\n",
       "      <td>2</td>\n",
       "      <td>1.0</td>\n",
       "      <td>861.0</td>\n",
       "      <td>50.0</td>\n",
       "      <td>Friedrichshain-Kreuzberg</td>\n",
       "      <td>79</td>\n",
       "      <td>1</td>\n",
       "      <td>0</td>\n",
       "      <td>1</td>\n",
       "    </tr>\n",
       "    <tr>\n",
       "      <th>130</th>\n",
       "      <td>Apartment</td>\n",
       "      <td>Entire home/apt</td>\n",
       "      <td>3</td>\n",
       "      <td>1.0</td>\n",
       "      <td>517.0</td>\n",
       "      <td>59.0</td>\n",
       "      <td>Charlottenburg-Wilm.</td>\n",
       "      <td>48</td>\n",
       "      <td>1</td>\n",
       "      <td>0</td>\n",
       "      <td>5</td>\n",
       "    </tr>\n",
       "    <tr>\n",
       "      <th>131</th>\n",
       "      <td>Apartment</td>\n",
       "      <td>Entire home/apt</td>\n",
       "      <td>3</td>\n",
       "      <td>1.0</td>\n",
       "      <td>570.0</td>\n",
       "      <td>75.0</td>\n",
       "      <td>Neukölln</td>\n",
       "      <td>52</td>\n",
       "      <td>1</td>\n",
       "      <td>0</td>\n",
       "      <td>4</td>\n",
       "    </tr>\n",
       "    <tr>\n",
       "      <th>137</th>\n",
       "      <td>Apartment</td>\n",
       "      <td>Entire home/apt</td>\n",
       "      <td>5</td>\n",
       "      <td>1.0</td>\n",
       "      <td>463.0</td>\n",
       "      <td>100.0</td>\n",
       "      <td>Charlottenburg-Wilm.</td>\n",
       "      <td>43</td>\n",
       "      <td>1</td>\n",
       "      <td>0</td>\n",
       "      <td>5</td>\n",
       "    </tr>\n",
       "    <tr>\n",
       "      <th>...</th>\n",
       "      <td>...</td>\n",
       "      <td>...</td>\n",
       "      <td>...</td>\n",
       "      <td>...</td>\n",
       "      <td>...</td>\n",
       "      <td>...</td>\n",
       "      <td>...</td>\n",
       "      <td>...</td>\n",
       "      <td>...</td>\n",
       "      <td>...</td>\n",
       "      <td>...</td>\n",
       "    </tr>\n",
       "    <tr>\n",
       "      <th>1431</th>\n",
       "      <td>Apartment</td>\n",
       "      <td>Entire home/apt</td>\n",
       "      <td>3</td>\n",
       "      <td>1.0</td>\n",
       "      <td>495.0</td>\n",
       "      <td>50.0</td>\n",
       "      <td>Mitte</td>\n",
       "      <td>45</td>\n",
       "      <td>1</td>\n",
       "      <td>1</td>\n",
       "      <td>2</td>\n",
       "    </tr>\n",
       "    <tr>\n",
       "      <th>1439</th>\n",
       "      <td>Apartment</td>\n",
       "      <td>Entire home/apt</td>\n",
       "      <td>5</td>\n",
       "      <td>3.0</td>\n",
       "      <td>1615.0</td>\n",
       "      <td>235.0</td>\n",
       "      <td>Friedrichshain-Kreuzberg</td>\n",
       "      <td>150</td>\n",
       "      <td>1</td>\n",
       "      <td>0</td>\n",
       "      <td>1</td>\n",
       "    </tr>\n",
       "    <tr>\n",
       "      <th>1457</th>\n",
       "      <td>Apartment</td>\n",
       "      <td>Entire home/apt</td>\n",
       "      <td>4</td>\n",
       "      <td>1.0</td>\n",
       "      <td>355.0</td>\n",
       "      <td>52.0</td>\n",
       "      <td>Neukölln</td>\n",
       "      <td>32</td>\n",
       "      <td>1</td>\n",
       "      <td>0</td>\n",
       "      <td>4</td>\n",
       "    </tr>\n",
       "    <tr>\n",
       "      <th>1561</th>\n",
       "      <td>Apartment</td>\n",
       "      <td>Shared room</td>\n",
       "      <td>4</td>\n",
       "      <td>1.0</td>\n",
       "      <td>592.0</td>\n",
       "      <td>79.0</td>\n",
       "      <td>Pankow</td>\n",
       "      <td>54</td>\n",
       "      <td>0</td>\n",
       "      <td>0</td>\n",
       "      <td>3</td>\n",
       "    </tr>\n",
       "    <tr>\n",
       "      <th>1565</th>\n",
       "      <td>Apartment</td>\n",
       "      <td>Entire home/apt</td>\n",
       "      <td>2</td>\n",
       "      <td>1.0</td>\n",
       "      <td>753.0</td>\n",
       "      <td>65.0</td>\n",
       "      <td>Friedrichshain-Kreuzberg</td>\n",
       "      <td>69</td>\n",
       "      <td>1</td>\n",
       "      <td>0</td>\n",
       "      <td>1</td>\n",
       "    </tr>\n",
       "    <tr>\n",
       "      <th>1577</th>\n",
       "      <td>Apartment</td>\n",
       "      <td>Entire home/apt</td>\n",
       "      <td>2</td>\n",
       "      <td>1.0</td>\n",
       "      <td>463.0</td>\n",
       "      <td>46.0</td>\n",
       "      <td>Pankow</td>\n",
       "      <td>43</td>\n",
       "      <td>1</td>\n",
       "      <td>0</td>\n",
       "      <td>3</td>\n",
       "    </tr>\n",
       "    <tr>\n",
       "      <th>1589</th>\n",
       "      <td>Loft</td>\n",
       "      <td>Entire home/apt</td>\n",
       "      <td>2</td>\n",
       "      <td>0.0</td>\n",
       "      <td>646.0</td>\n",
       "      <td>98.0</td>\n",
       "      <td>Pankow</td>\n",
       "      <td>60</td>\n",
       "      <td>1</td>\n",
       "      <td>0</td>\n",
       "      <td>3</td>\n",
       "    </tr>\n",
       "    <tr>\n",
       "      <th>1602</th>\n",
       "      <td>Apartment</td>\n",
       "      <td>Entire home/apt</td>\n",
       "      <td>3</td>\n",
       "      <td>1.0</td>\n",
       "      <td>388.0</td>\n",
       "      <td>63.0</td>\n",
       "      <td>Friedrichshain-Kreuzberg</td>\n",
       "      <td>36</td>\n",
       "      <td>1</td>\n",
       "      <td>0</td>\n",
       "      <td>1</td>\n",
       "    </tr>\n",
       "    <tr>\n",
       "      <th>1629</th>\n",
       "      <td>Apartment</td>\n",
       "      <td>Entire home/apt</td>\n",
       "      <td>3</td>\n",
       "      <td>1.0</td>\n",
       "      <td>646.0</td>\n",
       "      <td>50.0</td>\n",
       "      <td>Mitte</td>\n",
       "      <td>60</td>\n",
       "      <td>1</td>\n",
       "      <td>1</td>\n",
       "      <td>2</td>\n",
       "    </tr>\n",
       "    <tr>\n",
       "      <th>1630</th>\n",
       "      <td>Apartment</td>\n",
       "      <td>Entire home/apt</td>\n",
       "      <td>4</td>\n",
       "      <td>1.0</td>\n",
       "      <td>570.0</td>\n",
       "      <td>70.0</td>\n",
       "      <td>Friedrichshain-Kreuzberg</td>\n",
       "      <td>52</td>\n",
       "      <td>1</td>\n",
       "      <td>0</td>\n",
       "      <td>1</td>\n",
       "    </tr>\n",
       "    <tr>\n",
       "      <th>1639</th>\n",
       "      <td>Apartment</td>\n",
       "      <td>Entire home/apt</td>\n",
       "      <td>2</td>\n",
       "      <td>0.0</td>\n",
       "      <td>355.0</td>\n",
       "      <td>30.0</td>\n",
       "      <td>Lichtenberg</td>\n",
       "      <td>32</td>\n",
       "      <td>1</td>\n",
       "      <td>0</td>\n",
       "      <td>8</td>\n",
       "    </tr>\n",
       "    <tr>\n",
       "      <th>1655</th>\n",
       "      <td>Apartment</td>\n",
       "      <td>Private room</td>\n",
       "      <td>1</td>\n",
       "      <td>1.0</td>\n",
       "      <td>258.0</td>\n",
       "      <td>35.0</td>\n",
       "      <td>Tempelhof - Schöneberg</td>\n",
       "      <td>23</td>\n",
       "      <td>0</td>\n",
       "      <td>0</td>\n",
       "      <td>6</td>\n",
       "    </tr>\n",
       "    <tr>\n",
       "      <th>1700</th>\n",
       "      <td>Apartment</td>\n",
       "      <td>Private room</td>\n",
       "      <td>2</td>\n",
       "      <td>1.0</td>\n",
       "      <td>807.0</td>\n",
       "      <td>41.0</td>\n",
       "      <td>Treptow - Köpenick</td>\n",
       "      <td>74</td>\n",
       "      <td>0</td>\n",
       "      <td>0</td>\n",
       "      <td>7</td>\n",
       "    </tr>\n",
       "    <tr>\n",
       "      <th>1704</th>\n",
       "      <td>Apartment</td>\n",
       "      <td>Entire home/apt</td>\n",
       "      <td>4</td>\n",
       "      <td>1.0</td>\n",
       "      <td>388.0</td>\n",
       "      <td>27.0</td>\n",
       "      <td>Friedrichshain-Kreuzberg</td>\n",
       "      <td>36</td>\n",
       "      <td>1</td>\n",
       "      <td>0</td>\n",
       "      <td>1</td>\n",
       "    </tr>\n",
       "    <tr>\n",
       "      <th>1708</th>\n",
       "      <td>Apartment</td>\n",
       "      <td>Entire home/apt</td>\n",
       "      <td>4</td>\n",
       "      <td>2.0</td>\n",
       "      <td>1076.0</td>\n",
       "      <td>190.0</td>\n",
       "      <td>Mitte</td>\n",
       "      <td>99</td>\n",
       "      <td>1</td>\n",
       "      <td>1</td>\n",
       "      <td>2</td>\n",
       "    </tr>\n",
       "    <tr>\n",
       "      <th>1713</th>\n",
       "      <td>Apartment</td>\n",
       "      <td>Private room</td>\n",
       "      <td>2</td>\n",
       "      <td>1.0</td>\n",
       "      <td>420.0</td>\n",
       "      <td>48.0</td>\n",
       "      <td>Pankow</td>\n",
       "      <td>39</td>\n",
       "      <td>0</td>\n",
       "      <td>0</td>\n",
       "      <td>3</td>\n",
       "    </tr>\n",
       "    <tr>\n",
       "      <th>1717</th>\n",
       "      <td>Apartment</td>\n",
       "      <td>Entire home/apt</td>\n",
       "      <td>3</td>\n",
       "      <td>0.0</td>\n",
       "      <td>377.0</td>\n",
       "      <td>52.0</td>\n",
       "      <td>Charlottenburg-Wilm.</td>\n",
       "      <td>35</td>\n",
       "      <td>1</td>\n",
       "      <td>0</td>\n",
       "      <td>5</td>\n",
       "    </tr>\n",
       "    <tr>\n",
       "      <th>1722</th>\n",
       "      <td>Apartment</td>\n",
       "      <td>Private room</td>\n",
       "      <td>2</td>\n",
       "      <td>1.0</td>\n",
       "      <td>161.0</td>\n",
       "      <td>40.0</td>\n",
       "      <td>Neukölln</td>\n",
       "      <td>14</td>\n",
       "      <td>0</td>\n",
       "      <td>0</td>\n",
       "      <td>4</td>\n",
       "    </tr>\n",
       "    <tr>\n",
       "      <th>1723</th>\n",
       "      <td>Apartment</td>\n",
       "      <td>Entire home/apt</td>\n",
       "      <td>4</td>\n",
       "      <td>1.0</td>\n",
       "      <td>646.0</td>\n",
       "      <td>80.0</td>\n",
       "      <td>Friedrichshain-Kreuzberg</td>\n",
       "      <td>60</td>\n",
       "      <td>1</td>\n",
       "      <td>0</td>\n",
       "      <td>1</td>\n",
       "    </tr>\n",
       "    <tr>\n",
       "      <th>1725</th>\n",
       "      <td>Apartment</td>\n",
       "      <td>Entire home/apt</td>\n",
       "      <td>4</td>\n",
       "      <td>2.0</td>\n",
       "      <td>807.0</td>\n",
       "      <td>72.0</td>\n",
       "      <td>Neukölln</td>\n",
       "      <td>74</td>\n",
       "      <td>1</td>\n",
       "      <td>0</td>\n",
       "      <td>4</td>\n",
       "    </tr>\n",
       "    <tr>\n",
       "      <th>1731</th>\n",
       "      <td>Apartment</td>\n",
       "      <td>Entire home/apt</td>\n",
       "      <td>4</td>\n",
       "      <td>1.0</td>\n",
       "      <td>431.0</td>\n",
       "      <td>60.0</td>\n",
       "      <td>Neukölln</td>\n",
       "      <td>40</td>\n",
       "      <td>1</td>\n",
       "      <td>0</td>\n",
       "      <td>4</td>\n",
       "    </tr>\n",
       "    <tr>\n",
       "      <th>1732</th>\n",
       "      <td>Apartment</td>\n",
       "      <td>Entire home/apt</td>\n",
       "      <td>2</td>\n",
       "      <td>1.0</td>\n",
       "      <td>366.0</td>\n",
       "      <td>69.0</td>\n",
       "      <td>Mitte</td>\n",
       "      <td>34</td>\n",
       "      <td>1</td>\n",
       "      <td>1</td>\n",
       "      <td>2</td>\n",
       "    </tr>\n",
       "    <tr>\n",
       "      <th>1733</th>\n",
       "      <td>Apartment</td>\n",
       "      <td>Private room</td>\n",
       "      <td>1</td>\n",
       "      <td>1.0</td>\n",
       "      <td>237.0</td>\n",
       "      <td>34.0</td>\n",
       "      <td>Mitte</td>\n",
       "      <td>22</td>\n",
       "      <td>0</td>\n",
       "      <td>1</td>\n",
       "      <td>2</td>\n",
       "    </tr>\n",
       "    <tr>\n",
       "      <th>1738</th>\n",
       "      <td>Apartment</td>\n",
       "      <td>Entire home/apt</td>\n",
       "      <td>4</td>\n",
       "      <td>2.0</td>\n",
       "      <td>1184.0</td>\n",
       "      <td>75.0</td>\n",
       "      <td>Neukölln</td>\n",
       "      <td>109</td>\n",
       "      <td>1</td>\n",
       "      <td>0</td>\n",
       "      <td>4</td>\n",
       "    </tr>\n",
       "    <tr>\n",
       "      <th>1755</th>\n",
       "      <td>Apartment</td>\n",
       "      <td>Entire home/apt</td>\n",
       "      <td>2</td>\n",
       "      <td>0.0</td>\n",
       "      <td>355.0</td>\n",
       "      <td>41.0</td>\n",
       "      <td>Friedrichshain-Kreuzberg</td>\n",
       "      <td>32</td>\n",
       "      <td>1</td>\n",
       "      <td>0</td>\n",
       "      <td>1</td>\n",
       "    </tr>\n",
       "    <tr>\n",
       "      <th>20062</th>\n",
       "      <td>Apartment</td>\n",
       "      <td>Private room</td>\n",
       "      <td>1</td>\n",
       "      <td>1.0</td>\n",
       "      <td>1238.0</td>\n",
       "      <td>70.0</td>\n",
       "      <td>Pankow</td>\n",
       "      <td>115</td>\n",
       "      <td>0</td>\n",
       "      <td>0</td>\n",
       "      <td>3</td>\n",
       "    </tr>\n",
       "    <tr>\n",
       "      <th>21077</th>\n",
       "      <td>Apartment</td>\n",
       "      <td>Entire home/apt</td>\n",
       "      <td>2</td>\n",
       "      <td>0.0</td>\n",
       "      <td>108.0</td>\n",
       "      <td>48.0</td>\n",
       "      <td>Lichtenberg</td>\n",
       "      <td>10</td>\n",
       "      <td>1</td>\n",
       "      <td>0</td>\n",
       "      <td>8</td>\n",
       "    </tr>\n",
       "    <tr>\n",
       "      <th>21559</th>\n",
       "      <td>Apartment</td>\n",
       "      <td>Entire home/apt</td>\n",
       "      <td>4</td>\n",
       "      <td>2.0</td>\n",
       "      <td>1023.0</td>\n",
       "      <td>30.0</td>\n",
       "      <td>Pankow</td>\n",
       "      <td>95</td>\n",
       "      <td>1</td>\n",
       "      <td>0</td>\n",
       "      <td>3</td>\n",
       "    </tr>\n",
       "    <tr>\n",
       "      <th>21703</th>\n",
       "      <td>Apartment</td>\n",
       "      <td>Private room</td>\n",
       "      <td>1</td>\n",
       "      <td>1.0</td>\n",
       "      <td>108.0</td>\n",
       "      <td>28.0</td>\n",
       "      <td>Lichtenberg</td>\n",
       "      <td>10</td>\n",
       "      <td>0</td>\n",
       "      <td>0</td>\n",
       "      <td>8</td>\n",
       "    </tr>\n",
       "    <tr>\n",
       "      <th>22285</th>\n",
       "      <td>Apartment</td>\n",
       "      <td>Private room</td>\n",
       "      <td>1</td>\n",
       "      <td>1.0</td>\n",
       "      <td>108.0</td>\n",
       "      <td>35.0</td>\n",
       "      <td>Lichtenberg</td>\n",
       "      <td>10</td>\n",
       "      <td>0</td>\n",
       "      <td>0</td>\n",
       "      <td>8</td>\n",
       "    </tr>\n",
       "  </tbody>\n",
       "</table>\n",
       "<p>313 rows × 11 columns</p>\n",
       "</div>"
      ],
      "text/plain": [
       "      property_type        room_type  accommodates  bedrooms  square_feet  \\\n",
       "2         Apartment  Entire home/apt             4       1.0        720.0   \n",
       "14        Apartment  Entire home/apt             5       1.0        753.0   \n",
       "18        Apartment  Entire home/apt             8       2.0       1012.0   \n",
       "28        Apartment     Private room             1       1.0        646.0   \n",
       "33             Loft     Private room             2       1.0        215.0   \n",
       "35        Apartment     Private room             2       1.0        452.0   \n",
       "39        Apartment     Private room             2       1.0        807.0   \n",
       "42             Loft  Entire home/apt             2       1.0        474.0   \n",
       "44        Apartment  Entire home/apt             2       1.0        431.0   \n",
       "48        Apartment  Entire home/apt             2       1.0        323.0   \n",
       "56            House  Entire home/apt            10       2.0       1615.0   \n",
       "60        Apartment  Entire home/apt             4       2.0        775.0   \n",
       "63        Apartment  Entire home/apt             2       1.0        495.0   \n",
       "65        Apartment  Entire home/apt             6       3.0       1087.0   \n",
       "66        Apartment  Entire home/apt             2       1.0        323.0   \n",
       "73      Condominium  Entire home/apt             2       1.0        484.0   \n",
       "79        Apartment  Entire home/apt             3       1.0        484.0   \n",
       "85            House  Entire home/apt             4       2.0         65.0   \n",
       "86        Apartment  Entire home/apt             2       2.0        969.0   \n",
       "87        Apartment  Entire home/apt             4       1.0        388.0   \n",
       "104       Apartment     Private room             4       1.0        269.0   \n",
       "105       Apartment  Entire home/apt             2       1.0         54.0   \n",
       "115       Apartment     Private room             1       1.0         15.0   \n",
       "118       Apartment  Entire home/apt             2       1.0         46.0   \n",
       "119       Apartment  Entire home/apt             5       2.0       1023.0   \n",
       "121       Apartment  Entire home/apt             3       2.0        646.0   \n",
       "129       Apartment  Entire home/apt             2       1.0        861.0   \n",
       "130       Apartment  Entire home/apt             3       1.0        517.0   \n",
       "131       Apartment  Entire home/apt             3       1.0        570.0   \n",
       "137       Apartment  Entire home/apt             5       1.0        463.0   \n",
       "...             ...              ...           ...       ...          ...   \n",
       "1431      Apartment  Entire home/apt             3       1.0        495.0   \n",
       "1439      Apartment  Entire home/apt             5       3.0       1615.0   \n",
       "1457      Apartment  Entire home/apt             4       1.0        355.0   \n",
       "1561      Apartment      Shared room             4       1.0        592.0   \n",
       "1565      Apartment  Entire home/apt             2       1.0        753.0   \n",
       "1577      Apartment  Entire home/apt             2       1.0        463.0   \n",
       "1589           Loft  Entire home/apt             2       0.0        646.0   \n",
       "1602      Apartment  Entire home/apt             3       1.0        388.0   \n",
       "1629      Apartment  Entire home/apt             3       1.0        646.0   \n",
       "1630      Apartment  Entire home/apt             4       1.0        570.0   \n",
       "1639      Apartment  Entire home/apt             2       0.0        355.0   \n",
       "1655      Apartment     Private room             1       1.0        258.0   \n",
       "1700      Apartment     Private room             2       1.0        807.0   \n",
       "1704      Apartment  Entire home/apt             4       1.0        388.0   \n",
       "1708      Apartment  Entire home/apt             4       2.0       1076.0   \n",
       "1713      Apartment     Private room             2       1.0        420.0   \n",
       "1717      Apartment  Entire home/apt             3       0.0        377.0   \n",
       "1722      Apartment     Private room             2       1.0        161.0   \n",
       "1723      Apartment  Entire home/apt             4       1.0        646.0   \n",
       "1725      Apartment  Entire home/apt             4       2.0        807.0   \n",
       "1731      Apartment  Entire home/apt             4       1.0        431.0   \n",
       "1732      Apartment  Entire home/apt             2       1.0        366.0   \n",
       "1733      Apartment     Private room             1       1.0        237.0   \n",
       "1738      Apartment  Entire home/apt             4       2.0       1184.0   \n",
       "1755      Apartment  Entire home/apt             2       0.0        355.0   \n",
       "20062     Apartment     Private room             1       1.0       1238.0   \n",
       "21077     Apartment  Entire home/apt             2       0.0        108.0   \n",
       "21559     Apartment  Entire home/apt             4       2.0       1023.0   \n",
       "21703     Apartment     Private room             1       1.0        108.0   \n",
       "22285     Apartment     Private room             1       1.0        108.0   \n",
       "\n",
       "       price neighbourhood_group_cleansed  square_meters  room_type2  \\\n",
       "2       90.0                       Pankow             66           1   \n",
       "14     160.0                        Mitte             69           1   \n",
       "18     197.0                       Pankow             94           1   \n",
       "28      25.0       Tempelhof - Schöneberg             60           0   \n",
       "33      50.0     Friedrichshain-Kreuzberg             19           0   \n",
       "35      40.0                       Pankow             41           0   \n",
       "39      42.0           Treptow - Köpenick             74           0   \n",
       "42      48.0                        Mitte             44           1   \n",
       "44      70.0                       Pankow             40           1   \n",
       "48      90.0                        Mitte             30           1   \n",
       "56     120.0           Treptow - Köpenick            150           1   \n",
       "60     102.0     Friedrichshain-Kreuzberg             71           1   \n",
       "63      80.0         Charlottenburg-Wilm.             45           1   \n",
       "65     185.0                       Pankow            100           1   \n",
       "66      49.0         Charlottenburg-Wilm.             30           1   \n",
       "73      75.0                        Mitte             44           1   \n",
       "79      50.0     Friedrichshain-Kreuzberg             44           1   \n",
       "85      69.0                       Pankow              6           1   \n",
       "86      75.0     Friedrichshain-Kreuzberg             90           1   \n",
       "87      68.0     Friedrichshain-Kreuzberg             36           1   \n",
       "104     29.0                        Mitte             24           0   \n",
       "105    100.0     Friedrichshain-Kreuzberg              5           1   \n",
       "115     23.0         Charlottenburg-Wilm.              1           0   \n",
       "118     70.0                       Pankow              4           1   \n",
       "119     80.0                       Pankow             95           1   \n",
       "121     96.0                        Mitte             60           1   \n",
       "129     50.0     Friedrichshain-Kreuzberg             79           1   \n",
       "130     59.0         Charlottenburg-Wilm.             48           1   \n",
       "131     75.0                     Neukölln             52           1   \n",
       "137    100.0         Charlottenburg-Wilm.             43           1   \n",
       "...      ...                          ...            ...         ...   \n",
       "1431    50.0                        Mitte             45           1   \n",
       "1439   235.0     Friedrichshain-Kreuzberg            150           1   \n",
       "1457    52.0                     Neukölln             32           1   \n",
       "1561    79.0                       Pankow             54           0   \n",
       "1565    65.0     Friedrichshain-Kreuzberg             69           1   \n",
       "1577    46.0                       Pankow             43           1   \n",
       "1589    98.0                       Pankow             60           1   \n",
       "1602    63.0     Friedrichshain-Kreuzberg             36           1   \n",
       "1629    50.0                        Mitte             60           1   \n",
       "1630    70.0     Friedrichshain-Kreuzberg             52           1   \n",
       "1639    30.0                  Lichtenberg             32           1   \n",
       "1655    35.0       Tempelhof - Schöneberg             23           0   \n",
       "1700    41.0           Treptow - Köpenick             74           0   \n",
       "1704    27.0     Friedrichshain-Kreuzberg             36           1   \n",
       "1708   190.0                        Mitte             99           1   \n",
       "1713    48.0                       Pankow             39           0   \n",
       "1717    52.0         Charlottenburg-Wilm.             35           1   \n",
       "1722    40.0                     Neukölln             14           0   \n",
       "1723    80.0     Friedrichshain-Kreuzberg             60           1   \n",
       "1725    72.0                     Neukölln             74           1   \n",
       "1731    60.0                     Neukölln             40           1   \n",
       "1732    69.0                        Mitte             34           1   \n",
       "1733    34.0                        Mitte             22           0   \n",
       "1738    75.0                     Neukölln            109           1   \n",
       "1755    41.0     Friedrichshain-Kreuzberg             32           1   \n",
       "20062   70.0                       Pankow            115           0   \n",
       "21077   48.0                  Lichtenberg             10           1   \n",
       "21559   30.0                       Pankow             95           1   \n",
       "21703   28.0                  Lichtenberg             10           0   \n",
       "22285   35.0                  Lichtenberg             10           0   \n",
       "\n",
       "       city_center district  \n",
       "2                0        3  \n",
       "14               1        2  \n",
       "18               0        3  \n",
       "28               0        6  \n",
       "33               0        1  \n",
       "35               0        3  \n",
       "39               0        7  \n",
       "42               1        2  \n",
       "44               0        3  \n",
       "48               1        2  \n",
       "56               0        7  \n",
       "60               0        1  \n",
       "63               0        5  \n",
       "65               0        3  \n",
       "66               0        5  \n",
       "73               1        2  \n",
       "79               0        1  \n",
       "85               0        3  \n",
       "86               0        1  \n",
       "87               0        1  \n",
       "104              1        2  \n",
       "105              0        1  \n",
       "115              0        5  \n",
       "118              0        3  \n",
       "119              0        3  \n",
       "121              1        2  \n",
       "129              0        1  \n",
       "130              0        5  \n",
       "131              0        4  \n",
       "137              0        5  \n",
       "...            ...      ...  \n",
       "1431             1        2  \n",
       "1439             0        1  \n",
       "1457             0        4  \n",
       "1561             0        3  \n",
       "1565             0        1  \n",
       "1577             0        3  \n",
       "1589             0        3  \n",
       "1602             0        1  \n",
       "1629             1        2  \n",
       "1630             0        1  \n",
       "1639             0        8  \n",
       "1655             0        6  \n",
       "1700             0        7  \n",
       "1704             0        1  \n",
       "1708             1        2  \n",
       "1713             0        3  \n",
       "1717             0        5  \n",
       "1722             0        4  \n",
       "1723             0        1  \n",
       "1725             0        4  \n",
       "1731             0        4  \n",
       "1732             1        2  \n",
       "1733             1        2  \n",
       "1738             0        4  \n",
       "1755             0        1  \n",
       "20062            0        3  \n",
       "21077            0        8  \n",
       "21559            0        3  \n",
       "21703            0        8  \n",
       "22285            0        8  \n",
       "\n",
       "[313 rows x 11 columns]"
      ]
     },
     "execution_count": 20,
     "metadata": {},
     "output_type": "execute_result"
    }
   ],
   "source": [
    "berlin['district'] = berlin['neighbourhood_group_cleansed'].replace(['Friedrichshain-Kreuzberg','Mitte','Pankow','Neukölln','Charlottenburg-Wilm.','Tempelhof - Schöneberg','Treptow - Köpenick','Lichtenberg','Reinickendorf','Steglitz - Zehlendorf'],['1','2','3','4','5','6','7','8','9','10'])\n",
    "berlin"
   ]
  },
  {
   "cell_type": "code",
   "execution_count": 21,
   "metadata": {},
   "outputs": [
    {
     "data": {
      "text/plain": [
       "dtype('O')"
      ]
     },
     "execution_count": 21,
     "metadata": {},
     "output_type": "execute_result"
    }
   ],
   "source": [
    "berlin.district.dtype"
   ]
  },
  {
   "cell_type": "code",
   "execution_count": 22,
   "metadata": {},
   "outputs": [
    {
     "data": {
      "text/plain": [
       "property_type                    object\n",
       "room_type                        object\n",
       "accommodates                      int64\n",
       "bedrooms                        float64\n",
       "square_feet                     float64\n",
       "price                           float64\n",
       "neighbourhood_group_cleansed     object\n",
       "square_meters                     int32\n",
       "room_type2                        int32\n",
       "city_center                       int32\n",
       "district                          int32\n",
       "dtype: object"
      ]
     },
     "execution_count": 22,
     "metadata": {},
     "output_type": "execute_result"
    }
   ],
   "source": [
    "berlin.district = berlin.district.astype(int)\n",
    "berlin.dtypes"
   ]
  },
  {
   "cell_type": "code",
   "execution_count": 23,
   "metadata": {
    "scrolled": false
   },
   "outputs": [
    {
     "data": {
      "text/plain": [
       "count    313.000000\n",
       "mean      70.801917\n",
       "std       40.041073\n",
       "min       19.000000\n",
       "25%       45.000000\n",
       "50%       64.000000\n",
       "75%       85.000000\n",
       "max      235.000000\n",
       "Name: price, dtype: float64"
      ]
     },
     "execution_count": 23,
     "metadata": {},
     "output_type": "execute_result"
    }
   ],
   "source": [
    "berlin.price.describe()"
   ]
  },
  {
   "cell_type": "markdown",
   "metadata": {},
   "source": [
    "8. Nusibrėžiame kainos, gyventojų skaičiaus, ploto ir rajono histogramas"
   ]
  },
  {
   "cell_type": "code",
   "execution_count": 24,
   "metadata": {},
   "outputs": [
    {
     "data": {
      "image/png": "[encoded data removed]",
      "text/plain": [
       "<Figure size 432x288 with 1 Axes>"
      ]
     },
     "metadata": {},
     "output_type": "display_data"
    }
   ],
   "source": [
    "plt.hist(berlin.price, bins = 10)\n",
    "plt.xlabel(\"Price\")\n",
    "plt.ylabel(\"Frequency\")\n",
    "plt.show()"
   ]
  },
  {
   "cell_type": "code",
   "execution_count": 25,
   "metadata": {},
   "outputs": [
    {
     "data": {
      "image/png": "[encoded data removed]",
      "text/plain": [
       "<Figure size 432x288 with 1 Axes>"
      ]
     },
     "metadata": {},
     "output_type": "display_data"
    }
   ],
   "source": [
    "plt.hist(berlin.accommodates, bins = 10)\n",
    "plt.xlabel(\"Accommodates\")\n",
    "plt.ylabel(\"Frequency\")\n",
    "plt.show()"
   ]
  },
  {
   "cell_type": "code",
   "execution_count": 26,
   "metadata": {
    "scrolled": false
   },
   "outputs": [
    {
     "data": {
      "image/png": "[encoded data removed]",
      "text/plain": [
       "<Figure size 432x288 with 1 Axes>"
      ]
     },
     "metadata": {},
     "output_type": "display_data"
    }
   ],
   "source": [
    "plt.hist(berlin.square_meters, bins = 10)\n",
    "plt.xlabel(\"square_meters\")\n",
    "plt.ylabel(\"Frequency\")\n",
    "plt.show()"
   ]
  },
  {
   "cell_type": "code",
   "execution_count": 27,
   "metadata": {},
   "outputs": [
    {
     "data": {
      "image/png": "[encoded data removed]",
      "text/plain": [
       "<Figure size 432x288 with 1 Axes>"
      ]
     },
     "metadata": {},
     "output_type": "display_data"
    }
   ],
   "source": [
    "plt.hist(berlin.district, bins = 10)\n",
    "plt.xlabel(\"District\")\n",
    "plt.ylabel(\"Frequency\")\n",
    "plt.show()"
   ]
  },
  {
   "cell_type": "markdown",
   "metadata": {},
   "source": [
    "9. Tikriname kaip parametrai korealiuoja tarpusavyje"
   ]
  },
  {
   "cell_type": "code",
   "execution_count": 28,
   "metadata": {},
   "outputs": [
    {
     "data": {
      "text/html": [
       "<div>\n",
       "<style scoped>\n",
       "    .dataframe tbody tr th:only-of-type {\n",
       "        vertical-align: middle;\n",
       "    }\n",
       "\n",
       "    .dataframe tbody tr th {\n",
       "        vertical-align: top;\n",
       "    }\n",
       "\n",
       "    .dataframe thead th {\n",
       "        text-align: right;\n",
       "    }\n",
       "</style>\n",
       "<table border=\"1\" class=\"dataframe\">\n",
       "  <thead>\n",
       "    <tr style=\"text-align: right;\">\n",
       "      <th></th>\n",
       "      <th>accommodates</th>\n",
       "      <th>bedrooms</th>\n",
       "      <th>square_feet</th>\n",
       "      <th>price</th>\n",
       "      <th>square_meters</th>\n",
       "      <th>room_type2</th>\n",
       "      <th>city_center</th>\n",
       "      <th>district</th>\n",
       "    </tr>\n",
       "  </thead>\n",
       "  <tbody>\n",
       "    <tr>\n",
       "      <th>accommodates</th>\n",
       "      <td>1.000000</td>\n",
       "      <td>0.623548</td>\n",
       "      <td>0.541585</td>\n",
       "      <td>0.542447</td>\n",
       "      <td>0.542740</td>\n",
       "      <td>0.334229</td>\n",
       "      <td>0.082550</td>\n",
       "      <td>-0.031098</td>\n",
       "    </tr>\n",
       "    <tr>\n",
       "      <th>bedrooms</th>\n",
       "      <td>0.623548</td>\n",
       "      <td>1.000000</td>\n",
       "      <td>0.579474</td>\n",
       "      <td>0.506213</td>\n",
       "      <td>0.579702</td>\n",
       "      <td>0.207543</td>\n",
       "      <td>0.060343</td>\n",
       "      <td>-0.030471</td>\n",
       "    </tr>\n",
       "    <tr>\n",
       "      <th>square_feet</th>\n",
       "      <td>0.541585</td>\n",
       "      <td>0.579474</td>\n",
       "      <td>1.000000</td>\n",
       "      <td>0.571333</td>\n",
       "      <td>0.999907</td>\n",
       "      <td>0.374562</td>\n",
       "      <td>0.096652</td>\n",
       "      <td>-0.048137</td>\n",
       "    </tr>\n",
       "    <tr>\n",
       "      <th>price</th>\n",
       "      <td>0.542447</td>\n",
       "      <td>0.506213</td>\n",
       "      <td>0.571333</td>\n",
       "      <td>1.000000</td>\n",
       "      <td>0.572922</td>\n",
       "      <td>0.344627</td>\n",
       "      <td>0.192345</td>\n",
       "      <td>-0.151513</td>\n",
       "    </tr>\n",
       "    <tr>\n",
       "      <th>square_meters</th>\n",
       "      <td>0.542740</td>\n",
       "      <td>0.579702</td>\n",
       "      <td>0.999907</td>\n",
       "      <td>0.572922</td>\n",
       "      <td>1.000000</td>\n",
       "      <td>0.376429</td>\n",
       "      <td>0.096623</td>\n",
       "      <td>-0.047915</td>\n",
       "    </tr>\n",
       "    <tr>\n",
       "      <th>room_type2</th>\n",
       "      <td>0.334229</td>\n",
       "      <td>0.207543</td>\n",
       "      <td>0.374562</td>\n",
       "      <td>0.344627</td>\n",
       "      <td>0.376429</td>\n",
       "      <td>1.000000</td>\n",
       "      <td>0.038359</td>\n",
       "      <td>-0.051282</td>\n",
       "    </tr>\n",
       "    <tr>\n",
       "      <th>city_center</th>\n",
       "      <td>0.082550</td>\n",
       "      <td>0.060343</td>\n",
       "      <td>0.096652</td>\n",
       "      <td>0.192345</td>\n",
       "      <td>0.096623</td>\n",
       "      <td>0.038359</td>\n",
       "      <td>1.000000</td>\n",
       "      <td>-0.318940</td>\n",
       "    </tr>\n",
       "    <tr>\n",
       "      <th>district</th>\n",
       "      <td>-0.031098</td>\n",
       "      <td>-0.030471</td>\n",
       "      <td>-0.048137</td>\n",
       "      <td>-0.151513</td>\n",
       "      <td>-0.047915</td>\n",
       "      <td>-0.051282</td>\n",
       "      <td>-0.318940</td>\n",
       "      <td>1.000000</td>\n",
       "    </tr>\n",
       "  </tbody>\n",
       "</table>\n",
       "</div>"
      ],
      "text/plain": [
       "               accommodates  bedrooms  square_feet     price  square_meters  \\\n",
       "accommodates       1.000000  0.623548     0.541585  0.542447       0.542740   \n",
       "bedrooms           0.623548  1.000000     0.579474  0.506213       0.579702   \n",
       "square_feet        0.541585  0.579474     1.000000  0.571333       0.999907   \n",
       "price              0.542447  0.506213     0.571333  1.000000       0.572922   \n",
       "square_meters      0.542740  0.579702     0.999907  0.572922       1.000000   \n",
       "room_type2         0.334229  0.207543     0.374562  0.344627       0.376429   \n",
       "city_center        0.082550  0.060343     0.096652  0.192345       0.096623   \n",
       "district          -0.031098 -0.030471    -0.048137 -0.151513      -0.047915   \n",
       "\n",
       "               room_type2  city_center  district  \n",
       "accommodates     0.334229     0.082550 -0.031098  \n",
       "bedrooms         0.207543     0.060343 -0.030471  \n",
       "square_feet      0.374562     0.096652 -0.048137  \n",
       "price            0.344627     0.192345 -0.151513  \n",
       "square_meters    0.376429     0.096623 -0.047915  \n",
       "room_type2       1.000000     0.038359 -0.051282  \n",
       "city_center      0.038359     1.000000 -0.318940  \n",
       "district        -0.051282    -0.318940  1.000000  "
      ]
     },
     "execution_count": 28,
     "metadata": {},
     "output_type": "execute_result"
    }
   ],
   "source": [
    "berlin.corr()"
   ]
  },
  {
   "cell_type": "code",
   "execution_count": 29,
   "metadata": {
    "scrolled": true
   },
   "outputs": [
    {
     "data": {
      "text/plain": [
       "district        -0.151513\n",
       "city_center      0.192345\n",
       "room_type2       0.344627\n",
       "bedrooms         0.506213\n",
       "accommodates     0.542447\n",
       "square_feet      0.571333\n",
       "square_meters    0.572922\n",
       "price            1.000000\n",
       "Name: price, dtype: float64"
      ]
     },
     "execution_count": 29,
     "metadata": {},
     "output_type": "execute_result"
    }
   ],
   "source": [
    "berlin.corr().iloc[3,].sort_values()"
   ]
  },
  {
   "cell_type": "markdown",
   "metadata": {},
   "source": [
    "10. Kadangi didžiausia korealiacija su kaina tarp ploto ir galinčių gyventi asmenų skaičiaus toliau analizuojame duomenis ir brėžiame taškines diagramas"
   ]
  },
  {
   "cell_type": "code",
   "execution_count": 30,
   "metadata": {
    "scrolled": false
   },
   "outputs": [
    {
     "data": {
      "image/png": "[encoded data removed]",
      "text/plain": [
       "<Figure size 432x288 with 1 Axes>"
      ]
     },
     "metadata": {},
     "output_type": "display_data"
    }
   ],
   "source": [
    "plt.scatter(berlin.price,berlin.square_meters)\n",
    "plt.xlabel(\"Price\")\n",
    "plt.ylabel(\"Square_meters\")\n",
    "plt.show()"
   ]
  },
  {
   "cell_type": "code",
   "execution_count": 31,
   "metadata": {
    "scrolled": false
   },
   "outputs": [
    {
     "data": {
      "image/png": "[encoded data removed]",
      "text/plain": [
       "<Figure size 432x288 with 1 Axes>"
      ]
     },
     "metadata": {},
     "output_type": "display_data"
    }
   ],
   "source": [
    "plt.scatter(berlin.price,berlin.accommodates)\n",
    "plt.xlabel(\"Price\")\n",
    "plt.ylabel(\"accommodates\")\n",
    "plt.show()"
   ]
  },
  {
   "cell_type": "markdown",
   "metadata": {},
   "source": [
    "11. Atsiskirkite visus duomenis į train ir test (Test - 20%). Duomenis atskiriame vienalypei regresijai"
   ]
  },
  {
   "cell_type": "code",
   "execution_count": 32,
   "metadata": {
    "scrolled": true
   },
   "outputs": [
    {
     "data": {
      "text/html": [
       "<div>\n",
       "<style scoped>\n",
       "    .dataframe tbody tr th:only-of-type {\n",
       "        vertical-align: middle;\n",
       "    }\n",
       "\n",
       "    .dataframe tbody tr th {\n",
       "        vertical-align: top;\n",
       "    }\n",
       "\n",
       "    .dataframe thead th {\n",
       "        text-align: right;\n",
       "    }\n",
       "</style>\n",
       "<table border=\"1\" class=\"dataframe\">\n",
       "  <thead>\n",
       "    <tr style=\"text-align: right;\">\n",
       "      <th></th>\n",
       "      <th>property_type</th>\n",
       "      <th>room_type</th>\n",
       "      <th>accommodates</th>\n",
       "      <th>bedrooms</th>\n",
       "      <th>square_feet</th>\n",
       "      <th>price</th>\n",
       "      <th>neighbourhood_group_cleansed</th>\n",
       "      <th>square_meters</th>\n",
       "      <th>room_type2</th>\n",
       "      <th>city_center</th>\n",
       "      <th>district</th>\n",
       "    </tr>\n",
       "  </thead>\n",
       "  <tbody>\n",
       "    <tr>\n",
       "      <th>2</th>\n",
       "      <td>Apartment</td>\n",
       "      <td>Entire home/apt</td>\n",
       "      <td>4</td>\n",
       "      <td>1.0</td>\n",
       "      <td>720.0</td>\n",
       "      <td>90.0</td>\n",
       "      <td>Pankow</td>\n",
       "      <td>66</td>\n",
       "      <td>1</td>\n",
       "      <td>0</td>\n",
       "      <td>3</td>\n",
       "    </tr>\n",
       "    <tr>\n",
       "      <th>14</th>\n",
       "      <td>Apartment</td>\n",
       "      <td>Entire home/apt</td>\n",
       "      <td>5</td>\n",
       "      <td>1.0</td>\n",
       "      <td>753.0</td>\n",
       "      <td>160.0</td>\n",
       "      <td>Mitte</td>\n",
       "      <td>69</td>\n",
       "      <td>1</td>\n",
       "      <td>1</td>\n",
       "      <td>2</td>\n",
       "    </tr>\n",
       "    <tr>\n",
       "      <th>18</th>\n",
       "      <td>Apartment</td>\n",
       "      <td>Entire home/apt</td>\n",
       "      <td>8</td>\n",
       "      <td>2.0</td>\n",
       "      <td>1012.0</td>\n",
       "      <td>197.0</td>\n",
       "      <td>Pankow</td>\n",
       "      <td>94</td>\n",
       "      <td>1</td>\n",
       "      <td>0</td>\n",
       "      <td>3</td>\n",
       "    </tr>\n",
       "    <tr>\n",
       "      <th>28</th>\n",
       "      <td>Apartment</td>\n",
       "      <td>Private room</td>\n",
       "      <td>1</td>\n",
       "      <td>1.0</td>\n",
       "      <td>646.0</td>\n",
       "      <td>25.0</td>\n",
       "      <td>Tempelhof - Schöneberg</td>\n",
       "      <td>60</td>\n",
       "      <td>0</td>\n",
       "      <td>0</td>\n",
       "      <td>6</td>\n",
       "    </tr>\n",
       "    <tr>\n",
       "      <th>33</th>\n",
       "      <td>Loft</td>\n",
       "      <td>Private room</td>\n",
       "      <td>2</td>\n",
       "      <td>1.0</td>\n",
       "      <td>215.0</td>\n",
       "      <td>50.0</td>\n",
       "      <td>Friedrichshain-Kreuzberg</td>\n",
       "      <td>19</td>\n",
       "      <td>0</td>\n",
       "      <td>0</td>\n",
       "      <td>1</td>\n",
       "    </tr>\n",
       "  </tbody>\n",
       "</table>\n",
       "</div>"
      ],
      "text/plain": [
       "   property_type        room_type  accommodates  bedrooms  square_feet  price  \\\n",
       "2      Apartment  Entire home/apt             4       1.0        720.0   90.0   \n",
       "14     Apartment  Entire home/apt             5       1.0        753.0  160.0   \n",
       "18     Apartment  Entire home/apt             8       2.0       1012.0  197.0   \n",
       "28     Apartment     Private room             1       1.0        646.0   25.0   \n",
       "33          Loft     Private room             2       1.0        215.0   50.0   \n",
       "\n",
       "   neighbourhood_group_cleansed  square_meters  room_type2  city_center  \\\n",
       "2                        Pankow             66           1            0   \n",
       "14                        Mitte             69           1            1   \n",
       "18                       Pankow             94           1            0   \n",
       "28       Tempelhof - Schöneberg             60           0            0   \n",
       "33     Friedrichshain-Kreuzberg             19           0            0   \n",
       "\n",
       "    district  \n",
       "2          3  \n",
       "14         2  \n",
       "18         3  \n",
       "28         6  \n",
       "33         1  "
      ]
     },
     "execution_count": 32,
     "metadata": {},
     "output_type": "execute_result"
    }
   ],
   "source": [
    "berlin.head()"
   ]
  },
  {
   "cell_type": "code",
   "execution_count": 33,
   "metadata": {
    "scrolled": true
   },
   "outputs": [],
   "source": [
    "size = berlin.iloc[:,7:8].values\n",
    "price = berlin.price.values\n",
    "sizeTrain, sizeTest, priceTrain, priceTest = train_test_split(size, price, test_size = 0.2, random_state = 42)"
   ]
  },
  {
   "cell_type": "code",
   "execution_count": 34,
   "metadata": {},
   "outputs": [],
   "source": [
    "accTrain, accTest = train_test_split(berlin.iloc[:,2:3].values, test_size = 0.2, random_state = 42)"
   ]
  },
  {
   "cell_type": "code",
   "execution_count": 35,
   "metadata": {},
   "outputs": [],
   "source": [
    "districtTrain, districtTest = train_test_split(berlin.iloc[:,10:11].values, test_size = 0.2, random_state = 42)"
   ]
  },
  {
   "cell_type": "markdown",
   "metadata": {},
   "source": [
    "12. Sudarome tris modelius (su skirtingais X) ir patikrinkite, kuris geriausiai veikia pagal RMSE ir R^2"
   ]
  },
  {
   "cell_type": "markdown",
   "metadata": {},
   "source": [
    "12.1. Modelis pagal nuomojamo objekto plotą"
   ]
  },
  {
   "cell_type": "code",
   "execution_count": 36,
   "metadata": {},
   "outputs": [
    {
     "data": {
      "text/plain": [
       "array([0.6700386])"
      ]
     },
     "execution_count": 36,
     "metadata": {},
     "output_type": "execute_result"
    }
   ],
   "source": [
    "lm_size = LinearRegression()\n",
    "lm_size.fit(sizeTrain, priceTrain)\n",
    "lm_size.coef_"
   ]
  },
  {
   "cell_type": "code",
   "execution_count": 37,
   "metadata": {
    "scrolled": true
   },
   "outputs": [
    {
     "data": {
      "text/plain": [
       "Text(0,0.5,'Price')"
      ]
     },
     "execution_count": 37,
     "metadata": {},
     "output_type": "execute_result"
    },
    {
     "data": {
      "image/png": "[encoded data removed]",
      "text/plain": [
       "<Figure size 432x288 with 1 Axes>"
      ]
     },
     "metadata": {},
     "output_type": "display_data"
    }
   ],
   "source": [
    "plt.scatter(sizeTrain, priceTrain)\n",
    "plt.plot(sizeTrain, lm_size.predict(sizeTrain))\n",
    "plt.xlabel('Size')\n",
    "plt.ylabel('Price')"
   ]
  },
  {
   "cell_type": "code",
   "execution_count": 38,
   "metadata": {},
   "outputs": [
    {
     "data": {
      "text/plain": [
       "Text(0,0.5,'Price')"
      ]
     },
     "execution_count": 38,
     "metadata": {},
     "output_type": "execute_result"
    },
    {
     "data": {
      "image/png": "[encoded data removed]",
      "text/plain": [
       "<Figure size 432x288 with 1 Axes>"
      ]
     },
     "metadata": {},
     "output_type": "display_data"
    }
   ],
   "source": [
    "Predicted_size = lm_size.predict(sizeTest)\n",
    "plt.scatter(sizeTest, priceTest)\n",
    "plt.plot(sizeTest, Predicted_size)\n",
    "plt.xlabel('Size')\n",
    "plt.ylabel('Price')"
   ]
  },
  {
   "cell_type": "markdown",
   "metadata": {},
   "source": [
    "12.2. Modelis pagal nuomojamame objekte galinčių apsigyventi asmenų skaičių"
   ]
  },
  {
   "cell_type": "code",
   "execution_count": 39,
   "metadata": {},
   "outputs": [
    {
     "data": {
      "text/plain": [
       "array([13.23394313])"
      ]
     },
     "execution_count": 39,
     "metadata": {},
     "output_type": "execute_result"
    }
   ],
   "source": [
    "lm_acc = LinearRegression()\n",
    "lm_acc.fit(accTrain, priceTrain)\n",
    "lm_acc.coef_"
   ]
  },
  {
   "cell_type": "code",
   "execution_count": 40,
   "metadata": {},
   "outputs": [
    {
     "data": {
      "text/plain": [
       "Text(0,0.5,'Price')"
      ]
     },
     "execution_count": 40,
     "metadata": {},
     "output_type": "execute_result"
    },
    {
     "data": {
      "image/png": "[encoded data removed]",
      "text/plain": [
       "<Figure size 432x288 with 1 Axes>"
      ]
     },
     "metadata": {},
     "output_type": "display_data"
    }
   ],
   "source": [
    "plt.scatter(accTrain, priceTrain)\n",
    "plt.plot(accTrain, lm_acc.predict(accTrain))\n",
    "plt.xlabel('Accommodates')\n",
    "plt.ylabel('Price')"
   ]
  },
  {
   "cell_type": "code",
   "execution_count": 41,
   "metadata": {
    "scrolled": true
   },
   "outputs": [
    {
     "data": {
      "text/plain": [
       "Text(0,0.5,'Price')"
      ]
     },
     "execution_count": 41,
     "metadata": {},
     "output_type": "execute_result"
    },
    {
     "data": {
      "image/png": "[encoded data removed]",
      "text/plain": [
       "<Figure size 432x288 with 1 Axes>"
      ]
     },
     "metadata": {},
     "output_type": "display_data"
    }
   ],
   "source": [
    "Predicted_acc = lm_acc.predict(accTest)\n",
    "plt.scatter(accTest, priceTest)\n",
    "plt.plot(accTest, Predicted_acc)\n",
    "plt.xlabel('Accommodates')\n",
    "plt.ylabel('Price')"
   ]
  },
  {
   "cell_type": "markdown",
   "metadata": {},
   "source": [
    "12.3. Modelis pagal rajoną:\n",
    "\n",
    "RAJONAI:\n",
    "Friedrichshain-Kreuzberg    -1,\n",
    "Mitte                       -2,\n",
    "Pankow                      -3,\n",
    "Neukölln                    -4,\n",
    "Charlottenburg-Wilm.        -5,\n",
    "Tempelhof - Schöneberg      -6,\n",
    "Treptow - Köpenick          -7,\n",
    "Lichtenberg                 -8,\n",
    "Reinickendorf               -9,\n",
    "Steglitz - Zehlendorf       -10,"
   ]
  },
  {
   "cell_type": "code",
   "execution_count": 42,
   "metadata": {},
   "outputs": [
    {
     "data": {
      "text/plain": [
       "array([-2.62504276])"
      ]
     },
     "execution_count": 42,
     "metadata": {},
     "output_type": "execute_result"
    }
   ],
   "source": [
    "lm_district = LinearRegression()\n",
    "lm_district.fit(districtTrain, priceTrain)\n",
    "lm_district.coef_"
   ]
  },
  {
   "cell_type": "code",
   "execution_count": 43,
   "metadata": {},
   "outputs": [
    {
     "data": {
      "text/plain": [
       "Text(0,0.5,'Price')"
      ]
     },
     "execution_count": 43,
     "metadata": {},
     "output_type": "execute_result"
    },
    {
     "data": {
      "image/png": "[encoded data removed]",
      "text/plain": [
       "<Figure size 432x288 with 1 Axes>"
      ]
     },
     "metadata": {},
     "output_type": "display_data"
    }
   ],
   "source": [
    "plt.scatter(districtTrain, priceTrain)\n",
    "plt.plot(districtTrain, lm_district.predict(districtTrain))\n",
    "plt.xlabel('District')\n",
    "plt.ylabel('Price')"
   ]
  },
  {
   "cell_type": "code",
   "execution_count": 44,
   "metadata": {},
   "outputs": [
    {
     "data": {
      "text/plain": [
       "Text(0,0.5,'Price')"
      ]
     },
     "execution_count": 44,
     "metadata": {},
     "output_type": "execute_result"
    },
    {
     "data": {
      "image/png": "[encoded data removed]",
      "text/plain": [
       "<Figure size 432x288 with 1 Axes>"
      ]
     },
     "metadata": {},
     "output_type": "display_data"
    }
   ],
   "source": [
    "Predicted_district = lm_district.predict(districtTest)\n",
    "plt.scatter(districtTest, priceTest)\n",
    "plt.plot(districtTest, Predicted_district)\n",
    "plt.xlabel('District')\n",
    "plt.ylabel('Price')"
   ]
  },
  {
   "cell_type": "markdown",
   "metadata": {},
   "source": [
    "12.4 Lyginame modelius"
   ]
  },
  {
   "cell_type": "code",
   "execution_count": 45,
   "metadata": {
    "scrolled": true
   },
   "outputs": [
    {
     "name": "stdout",
     "output_type": "stream",
     "text": [
      "0.3443036383732134 0.31860899159059797 0.021403802981194486\n"
     ]
    }
   ],
   "source": [
    "print(lm_size.score(sizeTrain, priceTrain), lm_acc.score(accTrain, priceTrain), lm_district.score(districtTrain, priceTrain))"
   ]
  },
  {
   "cell_type": "code",
   "execution_count": 46,
   "metadata": {},
   "outputs": [
    {
     "name": "stdout",
     "output_type": "stream",
     "text": [
      "37.63355136757852 39.25909652794601 43.741509212313694\n"
     ]
    }
   ],
   "source": [
    "print(np.sqrt(mean_squared_error(priceTest, Predicted_size)), np.sqrt(mean_squared_error(priceTest, Predicted_acc)), np.sqrt(mean_squared_error(priceTest, Predicted_district)))"
   ]
  },
  {
   "cell_type": "markdown",
   "metadata": {},
   "source": [
    "IŠVADA. Lyginant pagal pasirinktus du parametrus modelių tikslumą, matome, kad modeliai veikia panašiai ir didelio skirtumo tarp jų nėra."
   ]
  },
  {
   "cell_type": "markdown",
   "metadata": {},
   "source": [
    "13. DAUGIALYPĖ REGRESIJA. Atsiskirkite visus duomenis į train ir test (Test - 20%)"
   ]
  },
  {
   "cell_type": "code",
   "execution_count": 47,
   "metadata": {},
   "outputs": [
    {
     "data": {
      "text/html": [
       "<div>\n",
       "<style scoped>\n",
       "    .dataframe tbody tr th:only-of-type {\n",
       "        vertical-align: middle;\n",
       "    }\n",
       "\n",
       "    .dataframe tbody tr th {\n",
       "        vertical-align: top;\n",
       "    }\n",
       "\n",
       "    .dataframe thead th {\n",
       "        text-align: right;\n",
       "    }\n",
       "</style>\n",
       "<table border=\"1\" class=\"dataframe\">\n",
       "  <thead>\n",
       "    <tr style=\"text-align: right;\">\n",
       "      <th></th>\n",
       "      <th>property_type</th>\n",
       "      <th>room_type</th>\n",
       "      <th>accommodates</th>\n",
       "      <th>bedrooms</th>\n",
       "      <th>square_feet</th>\n",
       "      <th>price</th>\n",
       "      <th>neighbourhood_group_cleansed</th>\n",
       "      <th>square_meters</th>\n",
       "      <th>room_type2</th>\n",
       "      <th>city_center</th>\n",
       "      <th>district</th>\n",
       "    </tr>\n",
       "  </thead>\n",
       "  <tbody>\n",
       "    <tr>\n",
       "      <th>2</th>\n",
       "      <td>Apartment</td>\n",
       "      <td>Entire home/apt</td>\n",
       "      <td>4</td>\n",
       "      <td>1.0</td>\n",
       "      <td>720.0</td>\n",
       "      <td>90.0</td>\n",
       "      <td>Pankow</td>\n",
       "      <td>66</td>\n",
       "      <td>1</td>\n",
       "      <td>0</td>\n",
       "      <td>3</td>\n",
       "    </tr>\n",
       "    <tr>\n",
       "      <th>14</th>\n",
       "      <td>Apartment</td>\n",
       "      <td>Entire home/apt</td>\n",
       "      <td>5</td>\n",
       "      <td>1.0</td>\n",
       "      <td>753.0</td>\n",
       "      <td>160.0</td>\n",
       "      <td>Mitte</td>\n",
       "      <td>69</td>\n",
       "      <td>1</td>\n",
       "      <td>1</td>\n",
       "      <td>2</td>\n",
       "    </tr>\n",
       "    <tr>\n",
       "      <th>18</th>\n",
       "      <td>Apartment</td>\n",
       "      <td>Entire home/apt</td>\n",
       "      <td>8</td>\n",
       "      <td>2.0</td>\n",
       "      <td>1012.0</td>\n",
       "      <td>197.0</td>\n",
       "      <td>Pankow</td>\n",
       "      <td>94</td>\n",
       "      <td>1</td>\n",
       "      <td>0</td>\n",
       "      <td>3</td>\n",
       "    </tr>\n",
       "    <tr>\n",
       "      <th>28</th>\n",
       "      <td>Apartment</td>\n",
       "      <td>Private room</td>\n",
       "      <td>1</td>\n",
       "      <td>1.0</td>\n",
       "      <td>646.0</td>\n",
       "      <td>25.0</td>\n",
       "      <td>Tempelhof - Schöneberg</td>\n",
       "      <td>60</td>\n",
       "      <td>0</td>\n",
       "      <td>0</td>\n",
       "      <td>6</td>\n",
       "    </tr>\n",
       "    <tr>\n",
       "      <th>33</th>\n",
       "      <td>Loft</td>\n",
       "      <td>Private room</td>\n",
       "      <td>2</td>\n",
       "      <td>1.0</td>\n",
       "      <td>215.0</td>\n",
       "      <td>50.0</td>\n",
       "      <td>Friedrichshain-Kreuzberg</td>\n",
       "      <td>19</td>\n",
       "      <td>0</td>\n",
       "      <td>0</td>\n",
       "      <td>1</td>\n",
       "    </tr>\n",
       "  </tbody>\n",
       "</table>\n",
       "</div>"
      ],
      "text/plain": [
       "   property_type        room_type  accommodates  bedrooms  square_feet  price  \\\n",
       "2      Apartment  Entire home/apt             4       1.0        720.0   90.0   \n",
       "14     Apartment  Entire home/apt             5       1.0        753.0  160.0   \n",
       "18     Apartment  Entire home/apt             8       2.0       1012.0  197.0   \n",
       "28     Apartment     Private room             1       1.0        646.0   25.0   \n",
       "33          Loft     Private room             2       1.0        215.0   50.0   \n",
       "\n",
       "   neighbourhood_group_cleansed  square_meters  room_type2  city_center  \\\n",
       "2                        Pankow             66           1            0   \n",
       "14                        Mitte             69           1            1   \n",
       "18                       Pankow             94           1            0   \n",
       "28       Tempelhof - Schöneberg             60           0            0   \n",
       "33     Friedrichshain-Kreuzberg             19           0            0   \n",
       "\n",
       "    district  \n",
       "2          3  \n",
       "14         2  \n",
       "18         3  \n",
       "28         6  \n",
       "33         1  "
      ]
     },
     "execution_count": 47,
     "metadata": {},
     "output_type": "execute_result"
    }
   ],
   "source": [
    "berlin.head()"
   ]
  },
  {
   "cell_type": "code",
   "execution_count": 85,
   "metadata": {},
   "outputs": [],
   "source": [
    "xTrain, xTest, yTrain, yTest = train_test_split(berlin.iloc[:,[7,8,10]].values, berlin.price.values, test_size = 0.20, random_state = 42)"
   ]
  },
  {
   "cell_type": "code",
   "execution_count": 49,
   "metadata": {},
   "outputs": [
    {
     "data": {
      "text/plain": [
       "array([[ 24,   0,   2],\n",
       "       [ 85,   1,   3],\n",
       "       [ 43,   1,   9],\n",
       "       [ 99,   1,   2],\n",
       "       [ 71,   1,   5],\n",
       "       [ 52,   1,   1],\n",
       "       [ 24,   0,   3],\n",
       "       [ 48,   1,   2],\n",
       "       [ 74,   1,   4],\n",
       "       [ 74,   0,   7],\n",
       "       [ 65,   1,   2],\n",
       "       [ 62,   1,   7],\n",
       "       [  1,   0,   5],\n",
       "       [ 65,   1,   1],\n",
       "       [ 49,   1,  10],\n",
       "       [ 40,   1,   1],\n",
       "       [ 34,   1,   4],\n",
       "       [ 57,   1,   7],\n",
       "       [170,   1,   2],\n",
       "       [ 24,   0,   1],\n",
       "       [ 44,   1,   5],\n",
       "       [ 43,   1,   3],\n",
       "       [ 64,   1,   7],\n",
       "       [109,   1,   1],\n",
       "       [ 11,   0,   1],\n",
       "       [ 85,   1,   3],\n",
       "       [ 18,   0,   4],\n",
       "       [ 44,   1,   5],\n",
       "       [ 36,   1,   1],\n",
       "       [ 61,   1,   1],\n",
       "       [ 41,   1,   5],\n",
       "       [ 48,   1,   7],\n",
       "       [  2,   0,   1],\n",
       "       [ 40,   1,   8],\n",
       "       [ 60,   1,  10],\n",
       "       [ 22,   0,   2],\n",
       "       [ 44,   1,   2],\n",
       "       [150,   1,   7],\n",
       "       [ 95,   1,   1],\n",
       "       [ 74,   1,   3],\n",
       "       [ 54,   1,   3],\n",
       "       [ 37,   1,   1],\n",
       "       [ 90,   0,   4],\n",
       "       [ 40,   0,   1],\n",
       "       [ 44,   1,   1],\n",
       "       [  4,   1,  10],\n",
       "       [ 99,   0,   2],\n",
       "       [ 69,   1,   6],\n",
       "       [ 40,   0,   4],\n",
       "       [ 54,   1,   3],\n",
       "       [ 40,   1,   1],\n",
       "       [150,   1,   7],\n",
       "       [ 75,   0,   4],\n",
       "       [ 61,   1,   1],\n",
       "       [ 45,   1,   5],\n",
       "       [ 41,   1,   3],\n",
       "       [ 90,   1,   1],\n",
       "       [ 60,   1,   1],\n",
       "       [ 20,   0,   3],\n",
       "       [ 20,   0,   4],\n",
       "       [ 19,   0,   3],\n",
       "       [ 69,   1,   1],\n",
       "       [ 71,   0,   7],\n",
       "       [ 65,   1,   3],\n",
       "       [ 14,   0,   2],\n",
       "       [ 41,   1,   3],\n",
       "       [ 19,   0,   5],\n",
       "       [ 27,   1,   2],\n",
       "       [ 54,   1,   1],\n",
       "       [ 35,   1,   5],\n",
       "       [  3,   1,   5],\n",
       "       [ 64,   1,   2],\n",
       "       [ 49,   1,   6],\n",
       "       [  1,   0,   1],\n",
       "       [ 19,   0,   5],\n",
       "       [ 19,   0,   3],\n",
       "       [ 44,   1,   3],\n",
       "       [ 24,   0,   3],\n",
       "       [ 65,   1,   4],\n",
       "       [ 30,   0,   1],\n",
       "       [ 60,   1,   3],\n",
       "       [ 45,   1,   2],\n",
       "       [ 30,   0,   3],\n",
       "       [ 60,   1,   2],\n",
       "       [ 60,   1,   5],\n",
       "       [ 94,   1,   3],\n",
       "       [129,   1,   2],\n",
       "       [ 65,   1,   2],\n",
       "       [115,   0,   3],\n",
       "       [ 31,   1,   6],\n",
       "       [112,   1,   1],\n",
       "       [ 54,   0,   3],\n",
       "       [ 37,   1,   4],\n",
       "       [  6,   1,   6],\n",
       "       [ 43,   1,   5],\n",
       "       [ 69,   1,   1],\n",
       "       [ 71,   1,   2],\n",
       "       [ 62,   1,   2],\n",
       "       [ 90,   1,   5],\n",
       "       [ 66,   1,   2],\n",
       "       [ 99,   0,   2],\n",
       "       [ 44,   1,   2],\n",
       "       [ 41,   1,   5],\n",
       "       [ 26,   0,   1],\n",
       "       [ 86,   1,   1],\n",
       "       [ 23,   0,   3],\n",
       "       [ 35,   1,   3],\n",
       "       [ 69,   1,   2],\n",
       "       [ 45,   1,   5],\n",
       "       [ 37,   1,   2],\n",
       "       [ 52,   1,   4],\n",
       "       [ 14,   0,   4],\n",
       "       [ 69,   1,   1],\n",
       "       [ 79,   1,   6],\n",
       "       [129,   1,   2],\n",
       "       [ 28,   1,   4],\n",
       "       [ 36,   1,   4],\n",
       "       [ 23,   0,   6],\n",
       "       [ 44,   1,   5],\n",
       "       [ 95,   1,   3],\n",
       "       [129,   1,   1],\n",
       "       [ 23,   0,   5],\n",
       "       [ 52,   1,   2],\n",
       "       [ 41,   1,   4],\n",
       "       [ 15,   0,   5],\n",
       "       [ 79,   1,   1],\n",
       "       [109,   1,   4],\n",
       "       [ 40,   1,   1],\n",
       "       [111,   1,   1],\n",
       "       [ 66,   1,   3],\n",
       "       [ 19,   0,   1],\n",
       "       [150,   1,   1],\n",
       "       [ 14,   0,   3],\n",
       "       [ 40,   1,   3],\n",
       "       [ 19,   0,   4],\n",
       "       [ 40,   1,   1],\n",
       "       [104,   1,   2],\n",
       "       [ 52,   1,   1],\n",
       "       [ 20,   0,   2],\n",
       "       [ 69,   1,   3],\n",
       "       [ 14,   0,   4],\n",
       "       [  5,   0,   8],\n",
       "       [ 60,   1,   1],\n",
       "       [ 39,   0,   3],\n",
       "       [ 71,   1,   1],\n",
       "       [ 10,   1,   8],\n",
       "       [ 99,   0,   6],\n",
       "       [ 95,   1,   3],\n",
       "       [ 48,   1,   5],\n",
       "       [ 44,   0,   3],\n",
       "       [ 19,   0,   1],\n",
       "       [ 99,   0,   5],\n",
       "       [ 53,   1,   4],\n",
       "       [ 74,   1,   8],\n",
       "       [120,   1,   2],\n",
       "       [109,   1,   7],\n",
       "       [ 19,   0,   3],\n",
       "       [ 54,   1,   1],\n",
       "       [ 51,   1,   6],\n",
       "       [ 26,   1,   5],\n",
       "       [ 54,   1,   3],\n",
       "       [ 49,   1,   3],\n",
       "       [ 40,   1,   4],\n",
       "       [ 40,   1,   3],\n",
       "       [ 35,   1,   1],\n",
       "       [ 22,   0,   4],\n",
       "       [ 23,   0,   1],\n",
       "       [120,   1,   2],\n",
       "       [ 40,   1,   1],\n",
       "       [ 90,   1,   6],\n",
       "       [ 14,   1,   5],\n",
       "       [ 66,   1,   1],\n",
       "       [ 69,   1,   1],\n",
       "       [ 18,   0,   4],\n",
       "       [ 56,   1,   3],\n",
       "       [  4,   1,   3],\n",
       "       [ 24,   1,   3],\n",
       "       [ 65,   1,   2],\n",
       "       [ 62,   1,   2],\n",
       "       [ 71,   1,   1],\n",
       "       [ 98,   1,   2],\n",
       "       [ 65,   1,   2],\n",
       "       [ 60,   1,  10],\n",
       "       [140,   1,   3],\n",
       "       [ 34,   1,   2],\n",
       "       [164,   1,   1],\n",
       "       [ 68,   1,   4],\n",
       "       [ 30,   1,   5],\n",
       "       [  9,   0,   2],\n",
       "       [ 74,   1,   2],\n",
       "       [126,   0,   6],\n",
       "       [ 31,   1,   2],\n",
       "       [ 32,   1,   4],\n",
       "       [ 37,   0,   1],\n",
       "       [ 69,   1,   3],\n",
       "       [ 15,   0,   4],\n",
       "       [ 75,   1,   1],\n",
       "       [ 40,   1,   2],\n",
       "       [ 85,   1,   5],\n",
       "       [ 60,   0,   2],\n",
       "       [ 19,   0,   4],\n",
       "       [ 69,   1,   2],\n",
       "       [ 31,   1,   5],\n",
       "       [  6,   1,   1],\n",
       "       [ 11,   0,   3],\n",
       "       [ 44,   1,   2],\n",
       "       [ 27,   1,   2],\n",
       "       [130,   1,   6],\n",
       "       [ 60,   1,   2],\n",
       "       [129,   1,   2],\n",
       "       [ 79,   1,   2],\n",
       "       [100,   1,   3],\n",
       "       [ 37,   1,   5],\n",
       "       [ 17,   0,   3],\n",
       "       [ 41,   1,   6],\n",
       "       [ 32,   1,   1],\n",
       "       [ 60,   1,   2],\n",
       "       [ 14,   0,   4],\n",
       "       [ 79,   1,   1],\n",
       "       [ 71,   1,   1],\n",
       "       [ 77,   1,   2],\n",
       "       [ 65,   1,   1],\n",
       "       [ 30,   0,   1],\n",
       "       [ 10,   0,   8],\n",
       "       [ 56,   1,   1],\n",
       "       [ 69,   1,   3],\n",
       "       [ 78,   1,   2],\n",
       "       [159,   1,   6],\n",
       "       [  1,   0,   6],\n",
       "       [ 60,   1,   1],\n",
       "       [  5,   1,   1],\n",
       "       [ 85,   1,   2],\n",
       "       [ 40,   1,   1],\n",
       "       [ 74,   1,   2],\n",
       "       [ 32,   1,   8],\n",
       "       [ 49,   1,   6],\n",
       "       [ 52,   0,   1],\n",
       "       [  6,   0,   1],\n",
       "       [ 30,   1,   5],\n",
       "       [ 64,   1,   1],\n",
       "       [ 18,   0,   3],\n",
       "       [ 26,   0,   9],\n",
       "       [ 14,   0,   2],\n",
       "       [ 10,   0,   8],\n",
       "       [ 24,   0,   2],\n",
       "       [ 44,   1,   4],\n",
       "       [ 85,   1,   1],\n",
       "       [ 71,   1,   4],\n",
       "       [ 60,   1,   4],\n",
       "       [ 44,   1,   9]])"
      ]
     },
     "execution_count": 49,
     "metadata": {},
     "output_type": "execute_result"
    }
   ],
   "source": [
    "xTrain"
   ]
  },
  {
   "cell_type": "code",
   "execution_count": 86,
   "metadata": {
    "scrolled": true
   },
   "outputs": [
    {
     "data": {
      "text/plain": [
       "0.36757978122910195"
      ]
     },
     "execution_count": 86,
     "metadata": {},
     "output_type": "execute_result"
    }
   ],
   "source": [
    "lm_full = LinearRegression()\n",
    "lm_full.fit(xTrain, yTrain)\n",
    "lm_full.score(xTrain, yTrain)"
   ]
  },
  {
   "cell_type": "code",
   "execution_count": 87,
   "metadata": {},
   "outputs": [
    {
     "data": {
      "text/plain": [
       "array([ 0.59716082, 11.71148851, -1.63660574])"
      ]
     },
     "execution_count": 87,
     "metadata": {},
     "output_type": "execute_result"
    }
   ],
   "source": [
    "lm_full.coef_"
   ]
  },
  {
   "cell_type": "code",
   "execution_count": 88,
   "metadata": {},
   "outputs": [
    {
     "data": {
      "text/plain": [
       "34.65842757141732"
      ]
     },
     "execution_count": 88,
     "metadata": {},
     "output_type": "execute_result"
    }
   ],
   "source": [
    "lm_full.intercept_"
   ]
  },
  {
   "cell_type": "code",
   "execution_count": 89,
   "metadata": {},
   "outputs": [
    {
     "data": {
      "image/png": "[encoded data removed]",
      "text/plain": [
       "<Figure size 432x288 with 1 Axes>"
      ]
     },
     "metadata": {},
     "output_type": "display_data"
    }
   ],
   "source": [
    "yhat = lm_full.predict(xTest)\n",
    "plt.scatter(yTest,yhat)\n",
    "plt.xlabel('Actual price')\n",
    "plt.ylabel('Predicted price')\n",
    "plt.title('Actual vs predicted')\n",
    "plt.show()"
   ]
  },
  {
   "cell_type": "code",
   "execution_count": 90,
   "metadata": {
    "scrolled": true
   },
   "outputs": [
    {
     "name": "stdout",
     "output_type": "stream",
     "text": [
      "Score (R^2): 0.36757978122910195\n"
     ]
    }
   ],
   "source": [
    "print(\"Score (R^2):\", lm_full.score(xTrain, yTrain))"
   ]
  },
  {
   "cell_type": "code",
   "execution_count": 91,
   "metadata": {},
   "outputs": [
    {
     "name": "stdout",
     "output_type": "stream",
     "text": [
      "RMSE: 36.04702901384482\n"
     ]
    }
   ],
   "source": [
    "print(\"RMSE:\", np.sqrt(mean_squared_error(yTest, yhat)))"
   ]
  },
  {
   "cell_type": "markdown",
   "metadata": {},
   "source": [
    "IŠVADA. Bendras tendensijas įžvelgti galima, kad kaina priklauso nuo ploto (kvadratų ar kambarių/lovų skaičiaus) dydžio ir kažkiek nuo rajono, tačiau, kad modelis geriau spėliotų reikėtų įtraukti daugiau parametrų, kurie nulemia nuomos kainą. Greičiausiai tai būtų būsto įrengimas ir naujumas. Taip pat reikėt modelius išbandyti su didesniu kiekiu duomenų. Kaip galime pastebėti būsto plotas nurodomas tik kiek daugiau nei prie 1% objektų, kas pasako, kad tai nėra esminis parametras nuomos kainai."
   ]
  }
 ],
 "metadata": {
  "kernelspec": {
   "display_name": "Python 3",
   "language": "python",
   "name": "python3"
  },
  "language_info": {
   "codemirror_mode": {
    "name": "ipython",
    "version": 3
   },
   "file_extension": ".py",
   "mimetype": "text/x-python",
   "name": "python",
   "nbconvert_exporter": "python",
   "pygments_lexer": "ipython3",
   "version": "3.6.5"
  }
 },
 "nbformat": 4,
 "nbformat_minor": 2
}
